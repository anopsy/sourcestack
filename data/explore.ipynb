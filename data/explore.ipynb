{
 "cells": [
  {
   "cell_type": "markdown",
   "id": "371183fd-8d08-4132-8fec-7581b6dfac63",
   "metadata": {},
   "source": [
    "## EDA and Cleaning - SourceStack datasets\n",
    "\n",
    "This notebook focuses on exploration and cleaning of two datasets I obtained by calling SourceStack API\\\n",
    "The first dataset comes from: **June 9, 2023**\\\n",
    "and the more recent one from: **April 2, 2024**\n",
    "\n",
    "### Initial Exploration\n",
    "1. shape\n",
    "2. dtypes\n",
    "3. missing values\n",
    "\n",
    "\n",
    "### Cleaning\n",
    "1. parsing strings containing datetimes to dates\n",
    "2. converting strings containing a list to list of strings\n",
    "3. convertsing numerical data from strings to Int/Float\n",
    "5. identify dirty categories"
   ]
  },
  {
   "cell_type": "markdown",
   "id": "37a36652-14b4-47d0-90ad-332058150137",
   "metadata": {},
   "source": [
    "#### Let's read in the data and have a look at its shape, columns and values"
   ]
  },
  {
   "cell_type": "code",
   "execution_count": 1,
   "id": "e4d063b9-f80e-41a4-9667-06eb21422835",
   "metadata": {},
   "outputs": [],
   "source": [
    "import polars as pl"
   ]
  },
  {
   "cell_type": "code",
   "execution_count": 2,
   "id": "7f51f28f-1eef-4314-9b69-5fd299a32dee",
   "metadata": {},
   "outputs": [],
   "source": [
    "old_data_path = '/home/anopsy/Portfolio/sourcestack/data/9june2023.csv'\n",
    "new_data_path = '/home/anopsy/Portfolio/sourcestack/data/2april2024.csv'"
   ]
  },
  {
   "cell_type": "code",
   "execution_count": 3,
   "id": "a3de9791-fe88-4223-99e2-4095ec12012f",
   "metadata": {},
   "outputs": [],
   "source": [
    "old_df = pl.read_csv(old_data_path, try_parse_dates=False)\n",
    "new_df = pl.read_csv(new_data_path, try_parse_dates=False)"
   ]
  },
  {
   "cell_type": "code",
   "execution_count": 4,
   "id": "0cbe0da3-ae72-414a-bade-e731dff1f168",
   "metadata": {},
   "outputs": [
    {
     "name": "stdout",
     "output_type": "stream",
     "text": [
      "Shape of the old data1 is:(50000, 16)\n",
      "Shape of the new data is:(50000, 16)\n"
     ]
    }
   ],
   "source": [
    "print(f'Shape of the old data1 is:{old_df.shape}')\n",
    "print(f'Shape of the new data is:{new_df.shape}')"
   ]
  },
  {
   "cell_type": "code",
   "execution_count": 5,
   "id": "0b300a9e-54ca-46ac-8708-b43a0fe80710",
   "metadata": {},
   "outputs": [
    {
     "data": {
      "text/html": [
       "<div><style>\n",
       ".dataframe > thead > tr,\n",
       ".dataframe > tbody > tr {\n",
       "  text-align: right;\n",
       "  white-space: pre-wrap;\n",
       "}\n",
       "</style>\n",
       "<small>shape: (5, 16)</small><table border=\"1\" class=\"dataframe\"><thead><tr><th>job_name</th><th>job_location</th><th>hours</th><th>remote</th><th>company_name</th><th>education</th><th>tags_matched</th><th>tag_categories</th><th>categories</th><th>seniority</th><th>comp_est</th><th>language</th><th>city</th><th>country</th><th>job_published_at</th><th>last_indexed</th></tr><tr><td>str</td><td>str</td><td>str</td><td>bool</td><td>str</td><td>str</td><td>str</td><td>str</td><td>str</td><td>str</td><td>str</td><td>str</td><td>str</td><td>str</td><td>str</td><td>str</td></tr></thead><tbody><tr><td>&quot;Backend Develo…</td><td>&quot;Praha, Czech R…</td><td>null</td><td>null</td><td>&quot;IBM&quot;</td><td>null</td><td>&quot;[Docker, Graph…</td><td>&quot;[Container Orc…</td><td>&quot;[Software]&quot;</td><td>null</td><td>&quot;&quot;</td><td>&quot;pl&quot;</td><td>&quot;Praha&quot;</td><td>&quot;Czech Republic…</td><td>&quot;2023-03-13 05:…</td><td>&quot;2023-06-05 13:…</td></tr><tr><td>&quot;Manufacturing …</td><td>null</td><td>&quot;Full-Time&quot;</td><td>false</td><td>null</td><td>null</td><td>&quot;[Sigma]&quot;</td><td>&quot;[Tools, Server…</td><td>&quot;[Manufacturing…</td><td>null</td><td>&quot;&quot;</td><td>&quot;en&quot;</td><td>&quot;Sterling Heigh…</td><td>&quot;United States&quot;</td><td>&quot;2021-10-09 00:…</td><td>&quot;2023-05-24 05:…</td></tr><tr><td>&quot;Design Enginee…</td><td>&quot;520 S Byrkit S…</td><td>&quot;Full-Time&quot;</td><td>null</td><td>&quot;ABI Attachment…</td><td>&quot;Bachelors&quot;</td><td>&quot;[]&quot;</td><td>&quot;[]&quot;</td><td>&quot;[Design]&quot;</td><td>&quot;Senior IC&quot;</td><td>&quot;&quot;</td><td>&quot;en&quot;</td><td>&quot;Mishawaka&quot;</td><td>&quot;United States&quot;</td><td>&quot;2023-04-28 03:…</td><td>&quot;2023-05-19 14:…</td></tr><tr><td>&quot;Cybersecurity …</td><td>null</td><td>&quot;Full-Time&quot;</td><td>false</td><td>null</td><td>&quot;Bachelors&quot;</td><td>&quot;[AWS, Qualys, …</td><td>&quot;[Compute, Logg…</td><td>&quot;[Cybersecurity…</td><td>null</td><td>&quot;&quot;</td><td>&quot;en&quot;</td><td>&quot;Herndon&quot;</td><td>&quot;United States&quot;</td><td>&quot;2023-04-03 00:…</td><td>&quot;2023-05-28 11:…</td></tr><tr><td>&quot;Your Career so…</td><td>&quot;Kolkata, India…</td><td>&quot;Full-Time&quot;</td><td>false</td><td>&quot;Adeeba e Servi…</td><td>null</td><td>&quot;[Objective-C, …</td><td>&quot;[Cloud Native …</td><td>&quot;[Software]&quot;</td><td>null</td><td>&quot;&quot;</td><td>&quot;en&quot;</td><td>&quot;Kolkata&quot;</td><td>&quot;India&quot;</td><td>&quot;2017-01-17 11:…</td><td>&quot;2023-05-30 11:…</td></tr></tbody></table></div>"
      ],
      "text/plain": [
       "shape: (5, 16)\n",
       "┌────────────┬────────────┬───────────┬────────┬───┬───────────┬───────────┬───────────┬───────────┐\n",
       "│ job_name   ┆ job_locati ┆ hours     ┆ remote ┆ … ┆ city      ┆ country   ┆ job_publi ┆ last_inde │\n",
       "│ ---        ┆ on         ┆ ---       ┆ ---    ┆   ┆ ---       ┆ ---       ┆ shed_at   ┆ xed       │\n",
       "│ str        ┆ ---        ┆ str       ┆ bool   ┆   ┆ str       ┆ str       ┆ ---       ┆ ---       │\n",
       "│            ┆ str        ┆           ┆        ┆   ┆           ┆           ┆ str       ┆ str       │\n",
       "╞════════════╪════════════╪═══════════╪════════╪═══╪═══════════╪═══════════╪═══════════╪═══════════╡\n",
       "│ Backend    ┆ Praha,     ┆ null      ┆ null   ┆ … ┆ Praha     ┆ Czech     ┆ 2023-03-1 ┆ 2023-06-0 │\n",
       "│ Developer  ┆ Czech      ┆           ┆        ┆   ┆           ┆ Republic  ┆ 3         ┆ 5         │\n",
       "│            ┆ Republic   ┆           ┆        ┆   ┆           ┆           ┆ 05:12:29  ┆ 13:43:49  │\n",
       "│ Manufactur ┆ null       ┆ Full-Time ┆ false  ┆ … ┆ Sterling  ┆ United    ┆ 2021-10-0 ┆ 2023-05-2 │\n",
       "│ ing        ┆            ┆           ┆        ┆   ┆ Heights   ┆ States    ┆ 9         ┆ 4         │\n",
       "│ Engineer   ┆            ┆           ┆        ┆   ┆           ┆           ┆ 00:00:00  ┆ 05:35:57  │\n",
       "│ Design     ┆ 520 S      ┆ Full-Time ┆ null   ┆ … ┆ Mishawaka ┆ United    ┆ 2023-04-2 ┆ 2023-05-1 │\n",
       "│ Engineer,  ┆ Byrkit St  ┆           ┆        ┆   ┆           ┆ States    ┆ 8         ┆ 9         │\n",
       "│ Motorized  ┆ Mishawaka, ┆           ┆        ┆   ┆           ┆           ┆ 03:04:28  ┆ 14:48:10  │\n",
       "│ Produ…     ┆ India…     ┆           ┆        ┆   ┆           ┆           ┆           ┆           │\n",
       "│ Cybersecur ┆ null       ┆ Full-Time ┆ false  ┆ … ┆ Herndon   ┆ United    ┆ 2023-04-0 ┆ 2023-05-2 │\n",
       "│ ity        ┆            ┆           ┆        ┆   ┆           ┆ States    ┆ 3         ┆ 8         │\n",
       "│ Engineer   ┆            ┆           ┆        ┆   ┆           ┆           ┆ 00:00:00  ┆ 11:47:09  │\n",
       "│ Your       ┆ Kolkata,   ┆ Full-Time ┆ false  ┆ … ┆ Kolkata   ┆ India     ┆ 2017-01-1 ┆ 2023-05-3 │\n",
       "│ Career so  ┆ India      ┆           ┆        ┆   ┆           ┆           ┆ 7         ┆ 0         │\n",
       "│ choose     ┆            ┆           ┆        ┆   ┆           ┆           ┆ 11:35:48  ┆ 11:51:08  │\n",
       "│ wisely     ┆            ┆           ┆        ┆   ┆           ┆           ┆           ┆           │\n",
       "│ wit…       ┆            ┆           ┆        ┆   ┆           ┆           ┆           ┆           │\n",
       "└────────────┴────────────┴───────────┴────────┴───┴───────────┴───────────┴───────────┴───────────┘"
      ]
     },
     "execution_count": 5,
     "metadata": {},
     "output_type": "execute_result"
    }
   ],
   "source": [
    "old_df.head()"
   ]
  },
  {
   "cell_type": "code",
   "execution_count": 6,
   "id": "34fa2ecc-343f-49fa-9db4-e728e5425a9a",
   "metadata": {},
   "outputs": [
    {
     "data": {
      "text/html": [
       "<div><style>\n",
       ".dataframe > thead > tr,\n",
       ".dataframe > tbody > tr {\n",
       "  text-align: right;\n",
       "  white-space: pre-wrap;\n",
       "}\n",
       "</style>\n",
       "<small>shape: (5, 16)</small><table border=\"1\" class=\"dataframe\"><thead><tr><th>job_name</th><th>job_location</th><th>hours</th><th>remote</th><th>company_name</th><th>education</th><th>tags_matched</th><th>tag_categories</th><th>categories</th><th>seniority</th><th>comp_est</th><th>language</th><th>city</th><th>country</th><th>job_published_at</th><th>last_indexed</th></tr><tr><td>str</td><td>str</td><td>str</td><td>bool</td><td>str</td><td>str</td><td>str</td><td>str</td><td>str</td><td>str</td><td>str</td><td>str</td><td>str</td><td>str</td><td>str</td><td>str</td></tr></thead><tbody><tr><td>&quot;Dir, Engineeri…</td><td>&quot;Dominican Repu…</td><td>&quot;Full-Time&quot;</td><td>null</td><td>&quot;DR&quot;</td><td>&quot;Bachelors&quot;</td><td>&quot;[Microsoft]&quot;</td><td>&quot;[]&quot;</td><td>&quot;[]&quot;</td><td>null</td><td>null</td><td>&quot;en&quot;</td><td>null</td><td>&quot;Dominican Repu…</td><td>&quot;2024-03-04 00:…</td><td>&quot;2024-03-26 08:…</td></tr><tr><td>&quot;Software Engin…</td><td>&quot;Dresden or Har…</td><td>&quot;Full-Time&quot;</td><td>null</td><td>&quot;Manning Global…</td><td>null</td><td>&quot;[Linux]&quot;</td><td>&quot;[OS]&quot;</td><td>&quot;[Software, IT]…</td><td>null</td><td>null</td><td>&quot;en&quot;</td><td>&quot;Dresden or Har…</td><td>&quot;Germany&quot;</td><td>&quot;2024-02-15 00:…</td><td>&quot;2024-04-01 09:…</td></tr><tr><td>&quot;Embedded Softw…</td><td>&quot;Brisbane, CA&quot;</td><td>&quot;Full-Time&quot;</td><td>null</td><td>&quot;Avive&quot;</td><td>null</td><td>&quot;[Linux, C++]&quot;</td><td>&quot;[OS, Programmi…</td><td>&quot;[Software]&quot;</td><td>null</td><td>&quot;150000.00&quot;</td><td>&quot;en&quot;</td><td>&quot;Brisbane&quot;</td><td>&quot;Australia&quot;</td><td>&quot;2023-10-23 00:…</td><td>&quot;2024-04-01 15:…</td></tr><tr><td>&quot;Manufacturing …</td><td>&quot;Monroe, WI&quot;</td><td>&quot;Full-Time&quot;</td><td>null</td><td>&quot;United Future&quot;</td><td>null</td><td>&quot;[]&quot;</td><td>&quot;[]&quot;</td><td>&quot;[Manufacturing…</td><td>&quot;Manager&quot;</td><td>&quot;1.00&quot;</td><td>&quot;en&quot;</td><td>&quot;Monroe&quot;</td><td>&quot;United States&quot;</td><td>&quot;2024-03-27 20:…</td><td>&quot;2024-03-28 20:…</td></tr><tr><td>&quot;Vom Lager zum …</td><td>&quot;Ennepetal, Nor…</td><td>&quot;Full-Time&quot;</td><td>null</td><td>&quot;RUHR VERMITTLU…</td><td>null</td><td>&quot;[WhatsApp, Ver…</td><td>&quot;[Communication…</td><td>&quot;[Security]&quot;</td><td>null</td><td>null</td><td>&quot;de&quot;</td><td>&quot;Dortmund&quot;</td><td>&quot;Germany&quot;</td><td>&quot;2024-03-27 12:…</td><td>&quot;2024-03-31 11:…</td></tr></tbody></table></div>"
      ],
      "text/plain": [
       "shape: (5, 16)\n",
       "┌────────────┬────────────┬───────────┬────────┬───┬───────────┬───────────┬───────────┬───────────┐\n",
       "│ job_name   ┆ job_locati ┆ hours     ┆ remote ┆ … ┆ city      ┆ country   ┆ job_publi ┆ last_inde │\n",
       "│ ---        ┆ on         ┆ ---       ┆ ---    ┆   ┆ ---       ┆ ---       ┆ shed_at   ┆ xed       │\n",
       "│ str        ┆ ---        ┆ str       ┆ bool   ┆   ┆ str       ┆ str       ┆ ---       ┆ ---       │\n",
       "│            ┆ str        ┆           ┆        ┆   ┆           ┆           ┆ str       ┆ str       │\n",
       "╞════════════╪════════════╪═══════════╪════════╪═══╪═══════════╪═══════════╪═══════════╪═══════════╡\n",
       "│ Dir, Engin ┆ Dominican  ┆ Full-Time ┆ null   ┆ … ┆ null      ┆ Dominican ┆ 2024-03-0 ┆ 2024-03-2 │\n",
       "│ eering     ┆ Republic-N ┆           ┆        ┆   ┆           ┆ Republic  ┆ 4         ┆ 6         │\n",
       "│ NPD,       ┆ ave        ┆           ┆        ┆   ┆           ┆           ┆ 00:00:00  ┆ 08:03:11  │\n",
       "│ Critical   ┆ 25-Meren…  ┆           ┆        ┆   ┆           ┆           ┆           ┆           │\n",
       "│ C…         ┆            ┆           ┆        ┆   ┆           ┆           ┆           ┆           │\n",
       "│ Software   ┆ Dresden or ┆ Full-Time ┆ null   ┆ … ┆ Dresden   ┆ Germany   ┆ 2024-02-1 ┆ 2024-04-0 │\n",
       "│ Engineer - ┆ Hartmannsd ┆           ┆        ┆   ┆ or Hartma ┆           ┆ 5         ┆ 1         │\n",
       "│ Embedded   ┆ orf,       ┆           ┆        ┆   ┆ nnsdorf   ┆           ┆ 00:00:00  ┆ 09:40:27  │\n",
       "│            ┆ Sachse…    ┆           ┆        ┆   ┆           ┆           ┆           ┆           │\n",
       "│ Embedded   ┆ Brisbane,  ┆ Full-Time ┆ null   ┆ … ┆ Brisbane  ┆ Australia ┆ 2023-10-2 ┆ 2024-04-0 │\n",
       "│ Software   ┆ CA         ┆           ┆        ┆   ┆           ┆           ┆ 3         ┆ 1         │\n",
       "│ Test       ┆            ┆           ┆        ┆   ┆           ┆           ┆ 00:00:00  ┆ 15:25:43  │\n",
       "│ Engineeri… ┆            ┆           ┆        ┆   ┆           ┆           ┆           ┆           │\n",
       "│ Manufactur ┆ Monroe, WI ┆ Full-Time ┆ null   ┆ … ┆ Monroe    ┆ United    ┆ 2024-03-2 ┆ 2024-03-2 │\n",
       "│ ing Engine ┆            ┆           ┆        ┆   ┆           ┆ States    ┆ 7         ┆ 8         │\n",
       "│ ering      ┆            ┆           ┆        ┆   ┆           ┆           ┆ 20:18:23  ┆ 20:24:27  │\n",
       "│ Manage…    ┆            ┆           ┆        ┆   ┆           ┆           ┆           ┆           │\n",
       "│ Vom Lager  ┆ Ennepetal, ┆ Full-Time ┆ null   ┆ … ┆ Dortmund  ┆ Germany   ┆ 2024-03-2 ┆ 2024-03-3 │\n",
       "│ zum        ┆ Nordrhein- ┆           ┆        ┆   ┆           ┆           ┆ 7         ┆ 1         │\n",
       "│ Wächter |  ┆ Westfalen, ┆           ┆        ┆   ┆           ┆           ┆ 12:31:19  ┆ 11:16:19  │\n",
       "│ Direktei…  ┆ …          ┆           ┆        ┆   ┆           ┆           ┆           ┆           │\n",
       "└────────────┴────────────┴───────────┴────────┴───┴───────────┴───────────┴───────────┴───────────┘"
      ]
     },
     "execution_count": 6,
     "metadata": {},
     "output_type": "execute_result"
    }
   ],
   "source": [
    "new_df.head()"
   ]
  },
  {
   "cell_type": "markdown",
   "id": "146a1e71-2856-4d58-b391-3676980f67da",
   "metadata": {},
   "source": [
    "### Initial explorations of unprocessed dataframes\n",
    "\n",
    "#### Shape\n",
    "Both datasets contain **50000 records** \\\n",
    "each record is represented by **16 features**\n",
    "\n",
    "#### Dtypes\n",
    "15 of the features are currently String - datatype\\\n",
    "1 feature is Bool\n",
    "\n",
    "#### Missing values\n",
    "The datasets contain **null values** and **empty strings**"
   ]
  },
  {
   "cell_type": "code",
   "execution_count": 7,
   "id": "3d800df2-add3-4828-8e68-f3973595d5f6",
   "metadata": {},
   "outputs": [
    {
     "data": {
      "text/plain": [
       "polars.config.Config"
      ]
     },
     "execution_count": 7,
     "metadata": {},
     "output_type": "execute_result"
    }
   ],
   "source": [
    "pl.Config.set_tbl_width_chars(200) #setting wide format but it doesn't work that well for jupyter notebook"
   ]
  },
  {
   "cell_type": "markdown",
   "id": "b69f8de7-a26d-4e93-a46d-f313667a3242",
   "metadata": {},
   "source": [
    "Let's have a look at the sample method, so I can have a look at some more records and remember that I can use .sample in the future."
   ]
  },
  {
   "cell_type": "code",
   "execution_count": 8,
   "id": "c738649d-c385-4beb-9a94-96d03d63e0a0",
   "metadata": {},
   "outputs": [
    {
     "data": {
      "text/html": [
       "<div><style>\n",
       ".dataframe > thead > tr,\n",
       ".dataframe > tbody > tr {\n",
       "  text-align: right;\n",
       "  white-space: pre-wrap;\n",
       "}\n",
       "</style>\n",
       "<small>shape: (3, 16)</small><table border=\"1\" class=\"dataframe\"><thead><tr><th>job_name</th><th>job_location</th><th>hours</th><th>remote</th><th>company_name</th><th>education</th><th>tags_matched</th><th>tag_categories</th><th>categories</th><th>seniority</th><th>comp_est</th><th>language</th><th>city</th><th>country</th><th>job_published_at</th><th>last_indexed</th></tr><tr><td>str</td><td>str</td><td>str</td><td>bool</td><td>str</td><td>str</td><td>str</td><td>str</td><td>str</td><td>str</td><td>str</td><td>str</td><td>str</td><td>str</td><td>str</td><td>str</td></tr></thead><tbody><tr><td>&quot;Principal Engi…</td><td>null</td><td>&quot;Full-Time&quot;</td><td>true</td><td>&quot;Visenze&quot;</td><td>&quot;Bachelors&quot;</td><td>&quot;[AWS, Azure, R…</td><td>&quot;[ML Tools, Com…</td><td>&quot;[eCom, Retail]…</td><td>&quot;Staff IC&quot;</td><td>&quot;&quot;</td><td>&quot;en&quot;</td><td>null</td><td>null</td><td>&quot;2023-05-03 00:…</td><td>&quot;2023-05-25 04:…</td></tr><tr><td>&quot;Infrastructure…</td><td>&quot;MULTIPLE CITIE…</td><td>null</td><td>null</td><td>&quot;IBM&quot;</td><td>null</td><td>&quot;[RDS, S3, AWS,…</td><td>&quot;[Datastores, C…</td><td>&quot;[]&quot;</td><td>&quot;Unclear Senior…</td><td>&quot;&quot;</td><td>&quot;sk&quot;</td><td>&quot;Multiple Citie…</td><td>&quot;Philippines&quot;</td><td>&quot;2023-01-06 05:…</td><td>&quot;2023-06-05 22:…</td></tr><tr><td>&quot;Cloud Engineer…</td><td>&quot;Cluj, Cluj, Ro…</td><td>null</td><td>null</td><td>&quot;sistemasglT1&quot;</td><td>null</td><td>null</td><td>null</td><td>&quot;[Design, AI]&quot;</td><td>null</td><td>&quot;&quot;</td><td>&quot;en-us&quot;</td><td>null</td><td>&quot;Romania&quot;</td><td>&quot;2023-06-05 02:…</td><td>&quot;2023-06-06 22:…</td></tr></tbody></table></div>"
      ],
      "text/plain": [
       "shape: (3, 16)\n",
       "┌───────────────────────────────────┬──────────────────────────────┬───────────┬────────┬───┬─────────────────┬─────────────┬─────────────────────┬─────────────────────┐\n",
       "│ job_name                          ┆ job_location                 ┆ hours     ┆ remote ┆ … ┆ city            ┆ country     ┆ job_published_at    ┆ last_indexed        │\n",
       "│ ---                               ┆ ---                          ┆ ---       ┆ ---    ┆   ┆ ---             ┆ ---         ┆ ---                 ┆ ---                 │\n",
       "│ str                               ┆ str                          ┆ str       ┆ bool   ┆   ┆ str             ┆ str         ┆ str                 ┆ str                 │\n",
       "╞═══════════════════════════════════╪══════════════════════════════╪═══════════╪════════╪═══╪═════════════════╪═════════════╪═════════════════════╪═════════════════════╡\n",
       "│ Principal Engineer, Search & Rec… ┆ null                         ┆ Full-Time ┆ true   ┆ … ┆ null            ┆ null        ┆ 2023-05-03 00:00:00 ┆ 2023-05-25 04:26:37 │\n",
       "│ Infrastructure Specialist-AWS Pl… ┆ MULTIPLE CITIES, Philippines ┆ null      ┆ null   ┆ … ┆ Multiple Cities ┆ Philippines ┆ 2023-01-06 05:43:53 ┆ 2023-06-05 22:09:55 │\n",
       "│ Cloud Engineer-RO-Cluj-Cluj       ┆ Cluj, Cluj, Romania          ┆ null      ┆ null   ┆ … ┆ null            ┆ Romania     ┆ 2023-06-05 02:00:00 ┆ 2023-06-06 22:50:20 │\n",
       "└───────────────────────────────────┴──────────────────────────────┴───────────┴────────┴───┴─────────────────┴─────────────┴─────────────────────┴─────────────────────┘"
      ]
     },
     "execution_count": 8,
     "metadata": {},
     "output_type": "execute_result"
    }
   ],
   "source": [
    "old_df.sample(3)"
   ]
  },
  {
   "cell_type": "code",
   "execution_count": 9,
   "id": "1969b77e-fa6f-498d-b8b8-1b37abb74ad4",
   "metadata": {},
   "outputs": [
    {
     "data": {
      "text/html": [
       "<div><style>\n",
       ".dataframe > thead > tr,\n",
       ".dataframe > tbody > tr {\n",
       "  text-align: right;\n",
       "  white-space: pre-wrap;\n",
       "}\n",
       "</style>\n",
       "<small>shape: (3, 16)</small><table border=\"1\" class=\"dataframe\"><thead><tr><th>job_name</th><th>job_location</th><th>hours</th><th>remote</th><th>company_name</th><th>education</th><th>tags_matched</th><th>tag_categories</th><th>categories</th><th>seniority</th><th>comp_est</th><th>language</th><th>city</th><th>country</th><th>job_published_at</th><th>last_indexed</th></tr><tr><td>str</td><td>str</td><td>str</td><td>bool</td><td>str</td><td>str</td><td>str</td><td>str</td><td>str</td><td>str</td><td>str</td><td>str</td><td>str</td><td>str</td><td>str</td><td>str</td></tr></thead><tbody><tr><td>&quot;Sr. Software E…</td><td>&quot;San Francisco,…</td><td>&quot;Full-Time&quot;</td><td>null</td><td>&quot;DocuSign&quot;</td><td>null</td><td>&quot;[Git, Cassandr…</td><td>&quot;[App Definitio…</td><td>&quot;[eSignature, S…</td><td>&quot;Senior IC&quot;</td><td>null</td><td>&quot;en-us&quot;</td><td>&quot;San Francisco&quot;</td><td>&quot;United States&quot;</td><td>&quot;2024-03-05 05:…</td><td>&quot;2024-03-31 20:…</td></tr><tr><td>&quot;Mid/Senior Fro…</td><td>&quot;Sofia, Bulgari…</td><td>null</td><td>null</td><td>&quot;MiNDS&quot;</td><td>null</td><td>&quot;[DynamoDB, Red…</td><td>&quot;[JavaScript UI…</td><td>&quot;[Software]&quot;</td><td>&quot;Senior IC&quot;</td><td>null</td><td>&quot;en-us&quot;</td><td>&quot;Sofia&quot;</td><td>&quot;Bulgaria&quot;</td><td>&quot;2023-09-14 15:…</td><td>&quot;2024-03-30 10:…</td></tr><tr><td>&quot;Clinical Engin…</td><td>&quot;Missouri, 6301…</td><td>null</td><td>null</td><td>&quot;TRIMEDX&quot;</td><td>&quot;Bachelors&quot;</td><td>&quot;[Microsoft]&quot;</td><td>&quot;[]&quot;</td><td>&quot;[Security, Med…</td><td>&quot;Manager&quot;</td><td>null</td><td>&quot;en&quot;</td><td>&quot;Missouri&quot;</td><td>&quot;United States&quot;</td><td>&quot;2024-02-22 22:…</td><td>&quot;2024-03-23 10:…</td></tr></tbody></table></div>"
      ],
      "text/plain": [
       "shape: (3, 16)\n",
       "┌───────────────────────────────────┬───────────────────────────────────┬───────────┬────────┬───┬───────────────┬───────────────┬─────────────────────┬─────────────────────┐\n",
       "│ job_name                          ┆ job_location                      ┆ hours     ┆ remote ┆ … ┆ city          ┆ country       ┆ job_published_at    ┆ last_indexed        │\n",
       "│ ---                               ┆ ---                               ┆ ---       ┆ ---    ┆   ┆ ---           ┆ ---           ┆ ---                 ┆ ---                 │\n",
       "│ str                               ┆ str                               ┆ str       ┆ bool   ┆   ┆ str           ┆ str           ┆ str                 ┆ str                 │\n",
       "╞═══════════════════════════════════╪═══════════════════════════════════╪═══════════╪════════╪═══╪═══════════════╪═══════════════╪═════════════════════╪═════════════════════╡\n",
       "│ Sr. Software Engineer, Backend    ┆ San Francisco, California, Unite… ┆ Full-Time ┆ null   ┆ … ┆ San Francisco ┆ United States ┆ 2024-03-05 05:00:00 ┆ 2024-03-31 20:28:44 │\n",
       "│ Mid/Senior Front-end Developer -… ┆ Sofia, Bulgaria                   ┆ null      ┆ null   ┆ … ┆ Sofia         ┆ Bulgaria      ┆ 2023-09-14 15:00:20 ┆ 2024-03-30 10:51:20 │\n",
       "│ Clinical Engineering Senior Site… ┆ Missouri, 63017 United States     ┆ null      ┆ null   ┆ … ┆ Missouri      ┆ United States ┆ 2024-02-22 22:45:25 ┆ 2024-03-23 10:55:29 │\n",
       "└───────────────────────────────────┴───────────────────────────────────┴───────────┴────────┴───┴───────────────┴───────────────┴─────────────────────┴─────────────────────┘"
      ]
     },
     "execution_count": 9,
     "metadata": {},
     "output_type": "execute_result"
    }
   ],
   "source": [
    "new_df.sample(3)"
   ]
  },
  {
   "cell_type": "markdown",
   "id": "7a22e06f-a487-41f5-9d77-bdd39c52041c",
   "metadata": {},
   "source": [
    "#### Add column that will help us identify if the record comes from 2023 or 2024 and concatenate both dataframes into one"
   ]
  },
  {
   "cell_type": "code",
   "execution_count": 10,
   "id": "88702b67-0f9b-4506-ae14-aa9a9df7f5e1",
   "metadata": {},
   "outputs": [],
   "source": [
    "#adding static columns with a string helping identify the df\n",
    "old_df = old_df.with_columns(pl.lit('no').alias('new'))\n",
    "new_df = new_df.with_columns(pl.lit('yes').alias('new'))"
   ]
  },
  {
   "cell_type": "code",
   "execution_count": 11,
   "id": "c0ab890f-96c7-4022-ad8c-dfa3a9e4242f",
   "metadata": {},
   "outputs": [
    {
     "data": {
      "text/html": [
       "<div><style>\n",
       ".dataframe > thead > tr,\n",
       ".dataframe > tbody > tr {\n",
       "  text-align: right;\n",
       "  white-space: pre-wrap;\n",
       "}\n",
       "</style>\n",
       "<small>shape: (5, 17)</small><table border=\"1\" class=\"dataframe\"><thead><tr><th>job_name</th><th>job_location</th><th>hours</th><th>remote</th><th>company_name</th><th>education</th><th>tags_matched</th><th>tag_categories</th><th>categories</th><th>seniority</th><th>comp_est</th><th>language</th><th>city</th><th>country</th><th>job_published_at</th><th>last_indexed</th><th>new</th></tr><tr><td>str</td><td>str</td><td>str</td><td>bool</td><td>str</td><td>str</td><td>str</td><td>str</td><td>str</td><td>str</td><td>str</td><td>str</td><td>str</td><td>str</td><td>str</td><td>str</td><td>str</td></tr></thead><tbody><tr><td>&quot;Backend Develo…</td><td>&quot;Praha, Czech R…</td><td>null</td><td>null</td><td>&quot;IBM&quot;</td><td>null</td><td>&quot;[Docker, Graph…</td><td>&quot;[Container Orc…</td><td>&quot;[Software]&quot;</td><td>null</td><td>&quot;&quot;</td><td>&quot;pl&quot;</td><td>&quot;Praha&quot;</td><td>&quot;Czech Republic…</td><td>&quot;2023-03-13 05:…</td><td>&quot;2023-06-05 13:…</td><td>&quot;no&quot;</td></tr><tr><td>&quot;Manufacturing …</td><td>null</td><td>&quot;Full-Time&quot;</td><td>false</td><td>null</td><td>null</td><td>&quot;[Sigma]&quot;</td><td>&quot;[Tools, Server…</td><td>&quot;[Manufacturing…</td><td>null</td><td>&quot;&quot;</td><td>&quot;en&quot;</td><td>&quot;Sterling Heigh…</td><td>&quot;United States&quot;</td><td>&quot;2021-10-09 00:…</td><td>&quot;2023-05-24 05:…</td><td>&quot;no&quot;</td></tr><tr><td>&quot;Design Enginee…</td><td>&quot;520 S Byrkit S…</td><td>&quot;Full-Time&quot;</td><td>null</td><td>&quot;ABI Attachment…</td><td>&quot;Bachelors&quot;</td><td>&quot;[]&quot;</td><td>&quot;[]&quot;</td><td>&quot;[Design]&quot;</td><td>&quot;Senior IC&quot;</td><td>&quot;&quot;</td><td>&quot;en&quot;</td><td>&quot;Mishawaka&quot;</td><td>&quot;United States&quot;</td><td>&quot;2023-04-28 03:…</td><td>&quot;2023-05-19 14:…</td><td>&quot;no&quot;</td></tr><tr><td>&quot;Cybersecurity …</td><td>null</td><td>&quot;Full-Time&quot;</td><td>false</td><td>null</td><td>&quot;Bachelors&quot;</td><td>&quot;[AWS, Qualys, …</td><td>&quot;[Compute, Logg…</td><td>&quot;[Cybersecurity…</td><td>null</td><td>&quot;&quot;</td><td>&quot;en&quot;</td><td>&quot;Herndon&quot;</td><td>&quot;United States&quot;</td><td>&quot;2023-04-03 00:…</td><td>&quot;2023-05-28 11:…</td><td>&quot;no&quot;</td></tr><tr><td>&quot;Your Career so…</td><td>&quot;Kolkata, India…</td><td>&quot;Full-Time&quot;</td><td>false</td><td>&quot;Adeeba e Servi…</td><td>null</td><td>&quot;[Objective-C, …</td><td>&quot;[Cloud Native …</td><td>&quot;[Software]&quot;</td><td>null</td><td>&quot;&quot;</td><td>&quot;en&quot;</td><td>&quot;Kolkata&quot;</td><td>&quot;India&quot;</td><td>&quot;2017-01-17 11:…</td><td>&quot;2023-05-30 11:…</td><td>&quot;no&quot;</td></tr></tbody></table></div>"
      ],
      "text/plain": [
       "shape: (5, 17)\n",
       "┌───────────────────────────────────┬───────────────────────────────────┬───────────┬────────┬───┬────────────────┬─────────────────────┬─────────────────────┬─────┐\n",
       "│ job_name                          ┆ job_location                      ┆ hours     ┆ remote ┆ … ┆ country        ┆ job_published_at    ┆ last_indexed        ┆ new │\n",
       "│ ---                               ┆ ---                               ┆ ---       ┆ ---    ┆   ┆ ---            ┆ ---                 ┆ ---                 ┆ --- │\n",
       "│ str                               ┆ str                               ┆ str       ┆ bool   ┆   ┆ str            ┆ str                 ┆ str                 ┆ str │\n",
       "╞═══════════════════════════════════╪═══════════════════════════════════╪═══════════╪════════╪═══╪════════════════╪═════════════════════╪═════════════════════╪═════╡\n",
       "│ Backend Developer                 ┆ Praha, Czech Republic             ┆ null      ┆ null   ┆ … ┆ Czech Republic ┆ 2023-03-13 05:12:29 ┆ 2023-06-05 13:43:49 ┆ no  │\n",
       "│ Manufacturing Engineer            ┆ null                              ┆ Full-Time ┆ false  ┆ … ┆ United States  ┆ 2021-10-09 00:00:00 ┆ 2023-05-24 05:35:57 ┆ no  │\n",
       "│ Design Engineer, Motorized Produ… ┆ 520 S Byrkit St Mishawaka, India… ┆ Full-Time ┆ null   ┆ … ┆ United States  ┆ 2023-04-28 03:04:28 ┆ 2023-05-19 14:48:10 ┆ no  │\n",
       "│ Cybersecurity Engineer            ┆ null                              ┆ Full-Time ┆ false  ┆ … ┆ United States  ┆ 2023-04-03 00:00:00 ┆ 2023-05-28 11:47:09 ┆ no  │\n",
       "│ Your Career so choose wisely wit… ┆ Kolkata, India                    ┆ Full-Time ┆ false  ┆ … ┆ India          ┆ 2017-01-17 11:35:48 ┆ 2023-05-30 11:51:08 ┆ no  │\n",
       "└───────────────────────────────────┴───────────────────────────────────┴───────────┴────────┴───┴────────────────┴─────────────────────┴─────────────────────┴─────┘"
      ]
     },
     "execution_count": 11,
     "metadata": {},
     "output_type": "execute_result"
    }
   ],
   "source": [
    "old_df.head()"
   ]
  },
  {
   "cell_type": "code",
   "execution_count": 12,
   "id": "b00bc2f6-a1a2-46d6-8963-2ed1869bdfa0",
   "metadata": {},
   "outputs": [
    {
     "name": "stdout",
     "output_type": "stream",
     "text": [
      "(100000, 17)\n"
     ]
    }
   ],
   "source": [
    "#concatenating old and new data\n",
    "whole_df = old_df.vstack(new_df)\n",
    "\n",
    "print(whole_df.shape)"
   ]
  },
  {
   "cell_type": "code",
   "execution_count": 13,
   "id": "75e6b553-0462-4c0a-b1cf-1ef994617cc0",
   "metadata": {},
   "outputs": [
    {
     "data": {
      "text/html": [
       "<div><style>\n",
       ".dataframe > thead > tr,\n",
       ".dataframe > tbody > tr {\n",
       "  text-align: right;\n",
       "  white-space: pre-wrap;\n",
       "}\n",
       "</style>\n",
       "<small>shape: (5, 17)</small><table border=\"1\" class=\"dataframe\"><thead><tr><th>job_name</th><th>job_location</th><th>hours</th><th>remote</th><th>company_name</th><th>education</th><th>tags_matched</th><th>tag_categories</th><th>categories</th><th>seniority</th><th>comp_est</th><th>language</th><th>city</th><th>country</th><th>job_published_at</th><th>last_indexed</th><th>new</th></tr><tr><td>str</td><td>str</td><td>str</td><td>bool</td><td>str</td><td>str</td><td>str</td><td>str</td><td>str</td><td>str</td><td>str</td><td>str</td><td>str</td><td>str</td><td>str</td><td>str</td><td>str</td></tr></thead><tbody><tr><td>&quot;Oracle EPM Clo…</td><td>&quot;MULTIPLE CITIE…</td><td>&quot;Full-Time&quot;</td><td>null</td><td>&quot;IBM&quot;</td><td>null</td><td>&quot;[Anaplan, IBM,…</td><td>&quot;[IaaS, Back Of…</td><td>&quot;[Management Co…</td><td>&quot;Contract&quot;</td><td>null</td><td>&quot;zh-tw&quot;</td><td>&quot;Multiple Citie…</td><td>&quot;United States&quot;</td><td>&quot;2024-03-12 15:…</td><td>&quot;2024-03-16 23:…</td><td>&quot;yes&quot;</td></tr><tr><td>&quot;Customer Engin…</td><td>&quot;Singapore,SGP&quot;</td><td>&quot;Full-Time&quot;</td><td>null</td><td>&quot;SGP&quot;</td><td>&quot;Associates&quot;</td><td>&quot;[]&quot;</td><td>&quot;[]&quot;</td><td>&quot;[]&quot;</td><td>null</td><td>null</td><td>&quot;en&quot;</td><td>&quot;Singapore&quot;</td><td>&quot;Singapore&quot;</td><td>&quot;2024-03-18 00:…</td><td>&quot;2024-03-25 11:…</td><td>&quot;yes&quot;</td></tr><tr><td>&quot;Cybersecurity …</td><td>&quot;Annapolis Junc…</td><td>&quot;Full-Time&quot;</td><td>null</td><td>&quot;Dobbs Defense …</td><td>null</td><td>&quot;[]&quot;</td><td>&quot;[]&quot;</td><td>&quot;[Cybersecurity…</td><td>&quot;Senior IC&quot;</td><td>&quot;&quot;</td><td>&quot;en&quot;</td><td>&quot;Annapolis Junc…</td><td>&quot;United States&quot;</td><td>&quot;2023-05-19 00:…</td><td>&quot;2023-05-28 06:…</td><td>&quot;no&quot;</td></tr><tr><td>&quot;Intern (Techni…</td><td>null</td><td>&quot;Intern&quot;</td><td>null</td><td>&quot;Synopsys&quot;</td><td>null</td><td>&quot;[]&quot;</td><td>&quot;[]&quot;</td><td>&quot;[Recruiting &amp; …</td><td>&quot;Intern&quot;</td><td>&quot;&quot;</td><td>&quot;en-us&quot;</td><td>null</td><td>null</td><td>null</td><td>&quot;2023-05-23 14:…</td><td>&quot;no&quot;</td></tr><tr><td>&quot;Mechanical Eng…</td><td>&quot;CLEVELAND, OH,…</td><td>&quot;Full-Time&quot;</td><td>null</td><td>&quot;Carmeuse Lime …</td><td>&quot;Bachelors&quot;</td><td>&quot;[SAP, Excel, M…</td><td>&quot;[Midsize Custo…</td><td>&quot;[Mechanical &amp; …</td><td>null</td><td>&quot;94550.00&quot;</td><td>&quot;en&quot;</td><td>&quot;Cleveland&quot;</td><td>&quot;United States&quot;</td><td>&quot;2023-11-28 17:…</td><td>&quot;2024-03-17 11:…</td><td>&quot;yes&quot;</td></tr></tbody></table></div>"
      ],
      "text/plain": [
       "shape: (5, 17)\n",
       "┌───────────────────────────────────┬────────────────────────────────┬───────────┬────────┬───┬───────────────┬─────────────────────┬─────────────────────┬─────┐\n",
       "│ job_name                          ┆ job_location                   ┆ hours     ┆ remote ┆ … ┆ country       ┆ job_published_at    ┆ last_indexed        ┆ new │\n",
       "│ ---                               ┆ ---                            ┆ ---       ┆ ---    ┆   ┆ ---           ┆ ---                 ┆ ---                 ┆ --- │\n",
       "│ str                               ┆ str                            ┆ str       ┆ bool   ┆   ┆ str           ┆ str                 ┆ str                 ┆ str │\n",
       "╞═══════════════════════════════════╪════════════════════════════════╪═══════════╪════════╪═══╪═══════════════╪═════════════════════╪═════════════════════╪═════╡\n",
       "│ Oracle EPM Cloud Management Cons… ┆ MULTIPLE CITIES, United States ┆ Full-Time ┆ null   ┆ … ┆ United States ┆ 2024-03-12 15:29:47 ┆ 2024-03-16 23:53:03 ┆ yes │\n",
       "│ Customer Engineer                 ┆ Singapore,SGP                  ┆ Full-Time ┆ null   ┆ … ┆ Singapore     ┆ 2024-03-18 00:00:00 ┆ 2024-03-25 11:45:24 ┆ yes │\n",
       "│ Cybersecurity Engineer II         ┆ Annapolis Junction, MD         ┆ Full-Time ┆ null   ┆ … ┆ United States ┆ 2023-05-19 00:00:00 ┆ 2023-05-28 06:36:24 ┆ no  │\n",
       "│ Intern (Technical-Engineering)    ┆ null                           ┆ Intern    ┆ null   ┆ … ┆ null          ┆ null                ┆ 2023-05-23 14:44:14 ┆ no  │\n",
       "│ Mechanical Engineer               ┆ CLEVELAND, OH, United States   ┆ Full-Time ┆ null   ┆ … ┆ United States ┆ 2023-11-28 17:16:09 ┆ 2024-03-17 11:58:42 ┆ yes │\n",
       "└───────────────────────────────────┴────────────────────────────────┴───────────┴────────┴───┴───────────────┴─────────────────────┴─────────────────────┴─────┘"
      ]
     },
     "execution_count": 13,
     "metadata": {},
     "output_type": "execute_result"
    }
   ],
   "source": [
    "whole_df.sample(5)"
   ]
  },
  {
   "cell_type": "markdown",
   "id": "d664f79c-5e1c-44d6-9614-7a21841f85c2",
   "metadata": {},
   "source": [
    "### Cleaning"
   ]
  },
  {
   "cell_type": "markdown",
   "id": "ea6148c6-396f-4392-b947-b676d561904b",
   "metadata": {},
   "source": [
    "#### 1. Converting 'job_published_at', 'last_indexed' to Date"
   ]
  },
  {
   "cell_type": "code",
   "execution_count": 14,
   "id": "278bea90-6b7a-453f-a174-04c59d30cafa",
   "metadata": {},
   "outputs": [],
   "source": [
    "whole_df = whole_df.with_columns(pl.col('job_published_at', 'last_indexed').str.to_datetime().cast(pl.Date))"
   ]
  },
  {
   "cell_type": "code",
   "execution_count": 15,
   "id": "0c8e5eed-85d9-40b1-b582-4895379557f7",
   "metadata": {},
   "outputs": [
    {
     "data": {
      "text/html": [
       "<div><style>\n",
       ".dataframe > thead > tr,\n",
       ".dataframe > tbody > tr {\n",
       "  text-align: right;\n",
       "  white-space: pre-wrap;\n",
       "}\n",
       "</style>\n",
       "<small>shape: (5, 17)</small><table border=\"1\" class=\"dataframe\"><thead><tr><th>job_name</th><th>job_location</th><th>hours</th><th>remote</th><th>company_name</th><th>education</th><th>tags_matched</th><th>tag_categories</th><th>categories</th><th>seniority</th><th>comp_est</th><th>language</th><th>city</th><th>country</th><th>job_published_at</th><th>last_indexed</th><th>new</th></tr><tr><td>str</td><td>str</td><td>str</td><td>bool</td><td>str</td><td>str</td><td>str</td><td>str</td><td>str</td><td>str</td><td>str</td><td>str</td><td>str</td><td>str</td><td>date</td><td>date</td><td>str</td></tr></thead><tbody><tr><td>&quot;Backend Develo…</td><td>&quot;Praha, Czech R…</td><td>null</td><td>null</td><td>&quot;IBM&quot;</td><td>null</td><td>&quot;[Docker, Graph…</td><td>&quot;[Container Orc…</td><td>&quot;[Software]&quot;</td><td>null</td><td>&quot;&quot;</td><td>&quot;pl&quot;</td><td>&quot;Praha&quot;</td><td>&quot;Czech Republic…</td><td>2023-03-13</td><td>2023-06-05</td><td>&quot;no&quot;</td></tr><tr><td>&quot;Manufacturing …</td><td>null</td><td>&quot;Full-Time&quot;</td><td>false</td><td>null</td><td>null</td><td>&quot;[Sigma]&quot;</td><td>&quot;[Tools, Server…</td><td>&quot;[Manufacturing…</td><td>null</td><td>&quot;&quot;</td><td>&quot;en&quot;</td><td>&quot;Sterling Heigh…</td><td>&quot;United States&quot;</td><td>2021-10-09</td><td>2023-05-24</td><td>&quot;no&quot;</td></tr><tr><td>&quot;Design Enginee…</td><td>&quot;520 S Byrkit S…</td><td>&quot;Full-Time&quot;</td><td>null</td><td>&quot;ABI Attachment…</td><td>&quot;Bachelors&quot;</td><td>&quot;[]&quot;</td><td>&quot;[]&quot;</td><td>&quot;[Design]&quot;</td><td>&quot;Senior IC&quot;</td><td>&quot;&quot;</td><td>&quot;en&quot;</td><td>&quot;Mishawaka&quot;</td><td>&quot;United States&quot;</td><td>2023-04-28</td><td>2023-05-19</td><td>&quot;no&quot;</td></tr><tr><td>&quot;Cybersecurity …</td><td>null</td><td>&quot;Full-Time&quot;</td><td>false</td><td>null</td><td>&quot;Bachelors&quot;</td><td>&quot;[AWS, Qualys, …</td><td>&quot;[Compute, Logg…</td><td>&quot;[Cybersecurity…</td><td>null</td><td>&quot;&quot;</td><td>&quot;en&quot;</td><td>&quot;Herndon&quot;</td><td>&quot;United States&quot;</td><td>2023-04-03</td><td>2023-05-28</td><td>&quot;no&quot;</td></tr><tr><td>&quot;Your Career so…</td><td>&quot;Kolkata, India…</td><td>&quot;Full-Time&quot;</td><td>false</td><td>&quot;Adeeba e Servi…</td><td>null</td><td>&quot;[Objective-C, …</td><td>&quot;[Cloud Native …</td><td>&quot;[Software]&quot;</td><td>null</td><td>&quot;&quot;</td><td>&quot;en&quot;</td><td>&quot;Kolkata&quot;</td><td>&quot;India&quot;</td><td>2017-01-17</td><td>2023-05-30</td><td>&quot;no&quot;</td></tr></tbody></table></div>"
      ],
      "text/plain": [
       "shape: (5, 17)\n",
       "┌───────────────────────────────────┬───────────────────────────────────┬───────────┬────────┬───┬────────────────┬──────────────────┬──────────────┬─────┐\n",
       "│ job_name                          ┆ job_location                      ┆ hours     ┆ remote ┆ … ┆ country        ┆ job_published_at ┆ last_indexed ┆ new │\n",
       "│ ---                               ┆ ---                               ┆ ---       ┆ ---    ┆   ┆ ---            ┆ ---              ┆ ---          ┆ --- │\n",
       "│ str                               ┆ str                               ┆ str       ┆ bool   ┆   ┆ str            ┆ date             ┆ date         ┆ str │\n",
       "╞═══════════════════════════════════╪═══════════════════════════════════╪═══════════╪════════╪═══╪════════════════╪══════════════════╪══════════════╪═════╡\n",
       "│ Backend Developer                 ┆ Praha, Czech Republic             ┆ null      ┆ null   ┆ … ┆ Czech Republic ┆ 2023-03-13       ┆ 2023-06-05   ┆ no  │\n",
       "│ Manufacturing Engineer            ┆ null                              ┆ Full-Time ┆ false  ┆ … ┆ United States  ┆ 2021-10-09       ┆ 2023-05-24   ┆ no  │\n",
       "│ Design Engineer, Motorized Produ… ┆ 520 S Byrkit St Mishawaka, India… ┆ Full-Time ┆ null   ┆ … ┆ United States  ┆ 2023-04-28       ┆ 2023-05-19   ┆ no  │\n",
       "│ Cybersecurity Engineer            ┆ null                              ┆ Full-Time ┆ false  ┆ … ┆ United States  ┆ 2023-04-03       ┆ 2023-05-28   ┆ no  │\n",
       "│ Your Career so choose wisely wit… ┆ Kolkata, India                    ┆ Full-Time ┆ false  ┆ … ┆ India          ┆ 2017-01-17       ┆ 2023-05-30   ┆ no  │\n",
       "└───────────────────────────────────┴───────────────────────────────────┴───────────┴────────┴───┴────────────────┴──────────────────┴──────────────┴─────┘"
      ]
     },
     "execution_count": 15,
     "metadata": {},
     "output_type": "execute_result"
    }
   ],
   "source": [
    "whole_df.head()"
   ]
  },
  {
   "cell_type": "markdown",
   "id": "d0ca39f9-c9b4-4698-a867-a86a88de8f9d",
   "metadata": {},
   "source": [
    "#### 2. Converting 'tags_matched', 'tag_categories', 'categories' from str to list[str]"
   ]
  },
  {
   "cell_type": "code",
   "execution_count": 16,
   "id": "f4a6480b-f765-4983-afe5-f7413defb1c6",
   "metadata": {},
   "outputs": [],
   "source": [
    "import polars.selectors as cs"
   ]
  },
  {
   "cell_type": "code",
   "execution_count": 17,
   "id": "96c79e40-072c-4ed5-ae48-16ff00c0fe55",
   "metadata": {},
   "outputs": [],
   "source": [
    "def string_to_nested(df, cols):\n",
    "    '''\n",
    "    takes a df and list of columns that contain strings with lists\n",
    "    and turns them into nested datatype List\n",
    "    '''\n",
    "    for col in cols:\n",
    "        df = df.with_columns(pl.col(col).str.extract_all(r'\\w+').cast(pl.List(pl.String)))\n",
    "    return df\n",
    "    "
   ]
  },
  {
   "cell_type": "code",
   "execution_count": 18,
   "id": "56b7678b-f7a4-4fbf-9236-d660908ad23d",
   "metadata": {},
   "outputs": [],
   "source": [
    "cols_to_change = ['tags_matched', 'tag_categories', 'categories']\n",
    "whole_df = string_to_nested(whole_df, cols_to_change)"
   ]
  },
  {
   "cell_type": "code",
   "execution_count": 19,
   "id": "53d5d36d-4bf7-454c-b05a-f67dbe92f78d",
   "metadata": {},
   "outputs": [
    {
     "data": {
      "text/html": [
       "<div><style>\n",
       ".dataframe > thead > tr,\n",
       ".dataframe > tbody > tr {\n",
       "  text-align: right;\n",
       "  white-space: pre-wrap;\n",
       "}\n",
       "</style>\n",
       "<small>shape: (5, 17)</small><table border=\"1\" class=\"dataframe\"><thead><tr><th>job_name</th><th>job_location</th><th>hours</th><th>remote</th><th>company_name</th><th>education</th><th>tags_matched</th><th>tag_categories</th><th>categories</th><th>seniority</th><th>comp_est</th><th>language</th><th>city</th><th>country</th><th>job_published_at</th><th>last_indexed</th><th>new</th></tr><tr><td>str</td><td>str</td><td>str</td><td>bool</td><td>str</td><td>str</td><td>list[str]</td><td>list[str]</td><td>list[str]</td><td>str</td><td>str</td><td>str</td><td>str</td><td>str</td><td>date</td><td>date</td><td>str</td></tr></thead><tbody><tr><td>&quot;Backend Develo…</td><td>&quot;Praha, Czech R…</td><td>null</td><td>null</td><td>&quot;IBM&quot;</td><td>null</td><td>[&quot;Docker&quot;, &quot;GraphQL&quot;, … &quot;Cloud&quot;]</td><td>[&quot;Container&quot;, &quot;Orchestration&quot;, … &quot;Databases&quot;]</td><td>[&quot;Software&quot;]</td><td>null</td><td>&quot;&quot;</td><td>&quot;pl&quot;</td><td>&quot;Praha&quot;</td><td>&quot;Czech Republic…</td><td>2023-03-13</td><td>2023-06-05</td><td>&quot;no&quot;</td></tr><tr><td>&quot;Manufacturing …</td><td>null</td><td>&quot;Full-Time&quot;</td><td>false</td><td>null</td><td>null</td><td>[&quot;Sigma&quot;]</td><td>[&quot;Tools&quot;, &quot;Serverless&quot;]</td><td>[&quot;Manufacturing&quot;]</td><td>null</td><td>&quot;&quot;</td><td>&quot;en&quot;</td><td>&quot;Sterling Heigh…</td><td>&quot;United States&quot;</td><td>2021-10-09</td><td>2023-05-24</td><td>&quot;no&quot;</td></tr><tr><td>&quot;Design Enginee…</td><td>&quot;520 S Byrkit S…</td><td>&quot;Full-Time&quot;</td><td>null</td><td>&quot;ABI Attachment…</td><td>&quot;Bachelors&quot;</td><td>[]</td><td>[]</td><td>[&quot;Design&quot;]</td><td>&quot;Senior IC&quot;</td><td>&quot;&quot;</td><td>&quot;en&quot;</td><td>&quot;Mishawaka&quot;</td><td>&quot;United States&quot;</td><td>2023-04-28</td><td>2023-05-19</td><td>&quot;no&quot;</td></tr><tr><td>&quot;Cybersecurity …</td><td>null</td><td>&quot;Full-Time&quot;</td><td>false</td><td>null</td><td>&quot;Bachelors&quot;</td><td>[&quot;AWS&quot;, &quot;Qualys&quot;, &quot;Splunk&quot;]</td><td>[&quot;Compute&quot;, &quot;Logging&quot;, … &quot;Security&quot;]</td><td>[&quot;Cybersecurity&quot;, &quot;Security&quot;]</td><td>null</td><td>&quot;&quot;</td><td>&quot;en&quot;</td><td>&quot;Herndon&quot;</td><td>&quot;United States&quot;</td><td>2023-04-03</td><td>2023-05-28</td><td>&quot;no&quot;</td></tr><tr><td>&quot;Your Career so…</td><td>&quot;Kolkata, India…</td><td>&quot;Full-Time&quot;</td><td>false</td><td>&quot;Adeeba e Servi…</td><td>null</td><td>[&quot;Objective&quot;, &quot;C&quot;, … &quot;Git&quot;]</td><td>[&quot;Cloud&quot;, &quot;Native&quot;, … &quot;Control&quot;]</td><td>[&quot;Software&quot;]</td><td>null</td><td>&quot;&quot;</td><td>&quot;en&quot;</td><td>&quot;Kolkata&quot;</td><td>&quot;India&quot;</td><td>2017-01-17</td><td>2023-05-30</td><td>&quot;no&quot;</td></tr></tbody></table></div>"
      ],
      "text/plain": [
       "shape: (5, 17)\n",
       "┌───────────────────────────────────┬───────────────────────────────────┬───────────┬────────┬───┬────────────────┬──────────────────┬──────────────┬─────┐\n",
       "│ job_name                          ┆ job_location                      ┆ hours     ┆ remote ┆ … ┆ country        ┆ job_published_at ┆ last_indexed ┆ new │\n",
       "│ ---                               ┆ ---                               ┆ ---       ┆ ---    ┆   ┆ ---            ┆ ---              ┆ ---          ┆ --- │\n",
       "│ str                               ┆ str                               ┆ str       ┆ bool   ┆   ┆ str            ┆ date             ┆ date         ┆ str │\n",
       "╞═══════════════════════════════════╪═══════════════════════════════════╪═══════════╪════════╪═══╪════════════════╪══════════════════╪══════════════╪═════╡\n",
       "│ Backend Developer                 ┆ Praha, Czech Republic             ┆ null      ┆ null   ┆ … ┆ Czech Republic ┆ 2023-03-13       ┆ 2023-06-05   ┆ no  │\n",
       "│ Manufacturing Engineer            ┆ null                              ┆ Full-Time ┆ false  ┆ … ┆ United States  ┆ 2021-10-09       ┆ 2023-05-24   ┆ no  │\n",
       "│ Design Engineer, Motorized Produ… ┆ 520 S Byrkit St Mishawaka, India… ┆ Full-Time ┆ null   ┆ … ┆ United States  ┆ 2023-04-28       ┆ 2023-05-19   ┆ no  │\n",
       "│ Cybersecurity Engineer            ┆ null                              ┆ Full-Time ┆ false  ┆ … ┆ United States  ┆ 2023-04-03       ┆ 2023-05-28   ┆ no  │\n",
       "│ Your Career so choose wisely wit… ┆ Kolkata, India                    ┆ Full-Time ┆ false  ┆ … ┆ India          ┆ 2017-01-17       ┆ 2023-05-30   ┆ no  │\n",
       "└───────────────────────────────────┴───────────────────────────────────┴───────────┴────────┴───┴────────────────┴──────────────────┴──────────────┴─────┘"
      ]
     },
     "execution_count": 19,
     "metadata": {},
     "output_type": "execute_result"
    }
   ],
   "source": [
    "whole_df.head()"
   ]
  },
  {
   "cell_type": "markdown",
   "id": "75d44d82-41a2-4931-9657-ed595cbacb46",
   "metadata": {},
   "source": [
    "#### 3. Converting 'comp_est' from str to int"
   ]
  },
  {
   "cell_type": "code",
   "execution_count": 20,
   "id": "fbe063ad-66ce-4fd9-8698-2d9234c2c119",
   "metadata": {},
   "outputs": [],
   "source": [
    "whole_df = whole_df.with_columns(pl.col('comp_est').cast(pl.Float64, strict=False).alias('compensation'))\n",
    "#polars can handle str->float->int\n",
    "#casting didn't work for Int64 but it did for Float with strict=False, strict=False turned empty strings to nulls\n",
    "#it works after all I think the problem was I tried to cast t oint32 and because of huge numbers it didn't work\n",
    "# now it works with Int64"
   ]
  },
  {
   "cell_type": "code",
   "execution_count": 21,
   "id": "2f8be37f-8595-408b-839c-8484f4e03ba1",
   "metadata": {},
   "outputs": [
    {
     "data": {
      "text/html": [
       "<div><style>\n",
       ".dataframe > thead > tr,\n",
       ".dataframe > tbody > tr {\n",
       "  text-align: right;\n",
       "  white-space: pre-wrap;\n",
       "}\n",
       "</style>\n",
       "<small>shape: (5, 18)</small><table border=\"1\" class=\"dataframe\"><thead><tr><th>job_name</th><th>job_location</th><th>hours</th><th>remote</th><th>company_name</th><th>education</th><th>tags_matched</th><th>tag_categories</th><th>categories</th><th>seniority</th><th>comp_est</th><th>language</th><th>city</th><th>country</th><th>job_published_at</th><th>last_indexed</th><th>new</th><th>compensation</th></tr><tr><td>str</td><td>str</td><td>str</td><td>bool</td><td>str</td><td>str</td><td>list[str]</td><td>list[str]</td><td>list[str]</td><td>str</td><td>str</td><td>str</td><td>str</td><td>str</td><td>date</td><td>date</td><td>str</td><td>f64</td></tr></thead><tbody><tr><td>&quot;Backend Develo…</td><td>&quot;Praha, Czech R…</td><td>null</td><td>null</td><td>&quot;IBM&quot;</td><td>null</td><td>[&quot;Docker&quot;, &quot;GraphQL&quot;, … &quot;Cloud&quot;]</td><td>[&quot;Container&quot;, &quot;Orchestration&quot;, … &quot;Databases&quot;]</td><td>[&quot;Software&quot;]</td><td>null</td><td>&quot;&quot;</td><td>&quot;pl&quot;</td><td>&quot;Praha&quot;</td><td>&quot;Czech Republic…</td><td>2023-03-13</td><td>2023-06-05</td><td>&quot;no&quot;</td><td>null</td></tr><tr><td>&quot;Manufacturing …</td><td>null</td><td>&quot;Full-Time&quot;</td><td>false</td><td>null</td><td>null</td><td>[&quot;Sigma&quot;]</td><td>[&quot;Tools&quot;, &quot;Serverless&quot;]</td><td>[&quot;Manufacturing&quot;]</td><td>null</td><td>&quot;&quot;</td><td>&quot;en&quot;</td><td>&quot;Sterling Heigh…</td><td>&quot;United States&quot;</td><td>2021-10-09</td><td>2023-05-24</td><td>&quot;no&quot;</td><td>null</td></tr><tr><td>&quot;Design Enginee…</td><td>&quot;520 S Byrkit S…</td><td>&quot;Full-Time&quot;</td><td>null</td><td>&quot;ABI Attachment…</td><td>&quot;Bachelors&quot;</td><td>[]</td><td>[]</td><td>[&quot;Design&quot;]</td><td>&quot;Senior IC&quot;</td><td>&quot;&quot;</td><td>&quot;en&quot;</td><td>&quot;Mishawaka&quot;</td><td>&quot;United States&quot;</td><td>2023-04-28</td><td>2023-05-19</td><td>&quot;no&quot;</td><td>null</td></tr><tr><td>&quot;Cybersecurity …</td><td>null</td><td>&quot;Full-Time&quot;</td><td>false</td><td>null</td><td>&quot;Bachelors&quot;</td><td>[&quot;AWS&quot;, &quot;Qualys&quot;, &quot;Splunk&quot;]</td><td>[&quot;Compute&quot;, &quot;Logging&quot;, … &quot;Security&quot;]</td><td>[&quot;Cybersecurity&quot;, &quot;Security&quot;]</td><td>null</td><td>&quot;&quot;</td><td>&quot;en&quot;</td><td>&quot;Herndon&quot;</td><td>&quot;United States&quot;</td><td>2023-04-03</td><td>2023-05-28</td><td>&quot;no&quot;</td><td>null</td></tr><tr><td>&quot;Your Career so…</td><td>&quot;Kolkata, India…</td><td>&quot;Full-Time&quot;</td><td>false</td><td>&quot;Adeeba e Servi…</td><td>null</td><td>[&quot;Objective&quot;, &quot;C&quot;, … &quot;Git&quot;]</td><td>[&quot;Cloud&quot;, &quot;Native&quot;, … &quot;Control&quot;]</td><td>[&quot;Software&quot;]</td><td>null</td><td>&quot;&quot;</td><td>&quot;en&quot;</td><td>&quot;Kolkata&quot;</td><td>&quot;India&quot;</td><td>2017-01-17</td><td>2023-05-30</td><td>&quot;no&quot;</td><td>null</td></tr></tbody></table></div>"
      ],
      "text/plain": [
       "shape: (5, 18)\n",
       "┌───────────────────────────────────┬───────────────────────────────────┬───────────┬────────┬───┬──────────────────┬──────────────┬─────┬──────────────┐\n",
       "│ job_name                          ┆ job_location                      ┆ hours     ┆ remote ┆ … ┆ job_published_at ┆ last_indexed ┆ new ┆ compensation │\n",
       "│ ---                               ┆ ---                               ┆ ---       ┆ ---    ┆   ┆ ---              ┆ ---          ┆ --- ┆ ---          │\n",
       "│ str                               ┆ str                               ┆ str       ┆ bool   ┆   ┆ date             ┆ date         ┆ str ┆ f64          │\n",
       "╞═══════════════════════════════════╪═══════════════════════════════════╪═══════════╪════════╪═══╪══════════════════╪══════════════╪═════╪══════════════╡\n",
       "│ Backend Developer                 ┆ Praha, Czech Republic             ┆ null      ┆ null   ┆ … ┆ 2023-03-13       ┆ 2023-06-05   ┆ no  ┆ null         │\n",
       "│ Manufacturing Engineer            ┆ null                              ┆ Full-Time ┆ false  ┆ … ┆ 2021-10-09       ┆ 2023-05-24   ┆ no  ┆ null         │\n",
       "│ Design Engineer, Motorized Produ… ┆ 520 S Byrkit St Mishawaka, India… ┆ Full-Time ┆ null   ┆ … ┆ 2023-04-28       ┆ 2023-05-19   ┆ no  ┆ null         │\n",
       "│ Cybersecurity Engineer            ┆ null                              ┆ Full-Time ┆ false  ┆ … ┆ 2023-04-03       ┆ 2023-05-28   ┆ no  ┆ null         │\n",
       "│ Your Career so choose wisely wit… ┆ Kolkata, India                    ┆ Full-Time ┆ false  ┆ … ┆ 2017-01-17       ┆ 2023-05-30   ┆ no  ┆ null         │\n",
       "└───────────────────────────────────┴───────────────────────────────────┴───────────┴────────┴───┴──────────────────┴──────────────┴─────┴──────────────┘"
      ]
     },
     "execution_count": 21,
     "metadata": {},
     "output_type": "execute_result"
    }
   ],
   "source": [
    "whole_df.head()"
   ]
  },
  {
   "cell_type": "code",
   "execution_count": 22,
   "id": "48271970-33bd-4195-bffd-7278bae27293",
   "metadata": {},
   "outputs": [
    {
     "data": {
      "text/plain": [
       "(14962, 18)"
      ]
     },
     "execution_count": 22,
     "metadata": {},
     "output_type": "execute_result"
    }
   ],
   "source": [
    "whole_df.filter(pl.col('compensation')>0).shape"
   ]
  },
  {
   "cell_type": "markdown",
   "id": "972ac94b-2f02-4ef5-b9d3-454babb212cf",
   "metadata": {},
   "source": [
    "#### 4. Identify dirty categories\n"
   ]
  },
  {
   "cell_type": "code",
   "execution_count": 23,
   "id": "019075d7-b32f-4b57-896c-1c88aeac649e",
   "metadata": {},
   "outputs": [
    {
     "data": {
      "text/html": [
       "<div><style>\n",
       ".dataframe > thead > tr,\n",
       ".dataframe > tbody > tr {\n",
       "  text-align: right;\n",
       "  white-space: pre-wrap;\n",
       "}\n",
       "</style>\n",
       "<small>shape: (1, 66_333)</small><table border=\"1\" class=\"dataframe\"><thead><tr><th>column_0</th><th>column_1</th><th>column_2</th><th>column_3</th><th>column_4</th><th>column_5</th><th>column_6</th><th>column_7</th><th>column_8</th><th>column_9</th><th>column_10</th><th>column_11</th><th>column_12</th><th>column_13</th><th>column_14</th><th>column_15</th><th>column_16</th><th>column_17</th><th>column_18</th><th>column_19</th><th>column_20</th><th>column_21</th><th>column_22</th><th>column_23</th><th>column_24</th><th>column_25</th><th>column_26</th><th>column_27</th><th>column_28</th><th>column_29</th><th>column_30</th><th>column_31</th><th>column_32</th><th>column_33</th><th>column_34</th><th>column_35</th><th>column_36</th><th>&hellip;</th><th>column_66296</th><th>column_66297</th><th>column_66298</th><th>column_66299</th><th>column_66300</th><th>column_66301</th><th>column_66302</th><th>column_66303</th><th>column_66304</th><th>column_66305</th><th>column_66306</th><th>column_66307</th><th>column_66308</th><th>column_66309</th><th>column_66310</th><th>column_66311</th><th>column_66312</th><th>column_66313</th><th>column_66314</th><th>column_66315</th><th>column_66316</th><th>column_66317</th><th>column_66318</th><th>column_66319</th><th>column_66320</th><th>column_66321</th><th>column_66322</th><th>column_66323</th><th>column_66324</th><th>column_66325</th><th>column_66326</th><th>column_66327</th><th>column_66328</th><th>column_66329</th><th>column_66330</th><th>column_66331</th><th>column_66332</th></tr><tr><td>struct[2]</td><td>struct[2]</td><td>struct[2]</td><td>struct[2]</td><td>struct[2]</td><td>struct[2]</td><td>struct[2]</td><td>struct[2]</td><td>struct[2]</td><td>struct[2]</td><td>struct[2]</td><td>struct[2]</td><td>struct[2]</td><td>struct[2]</td><td>struct[2]</td><td>struct[2]</td><td>struct[2]</td><td>struct[2]</td><td>struct[2]</td><td>struct[2]</td><td>struct[2]</td><td>struct[2]</td><td>struct[2]</td><td>struct[2]</td><td>struct[2]</td><td>struct[2]</td><td>struct[2]</td><td>struct[2]</td><td>struct[2]</td><td>struct[2]</td><td>struct[2]</td><td>struct[2]</td><td>struct[2]</td><td>struct[2]</td><td>struct[2]</td><td>struct[2]</td><td>struct[2]</td><td>&hellip;</td><td>struct[2]</td><td>struct[2]</td><td>struct[2]</td><td>struct[2]</td><td>struct[2]</td><td>struct[2]</td><td>struct[2]</td><td>struct[2]</td><td>struct[2]</td><td>struct[2]</td><td>struct[2]</td><td>struct[2]</td><td>struct[2]</td><td>struct[2]</td><td>struct[2]</td><td>struct[2]</td><td>struct[2]</td><td>struct[2]</td><td>struct[2]</td><td>struct[2]</td><td>struct[2]</td><td>struct[2]</td><td>struct[2]</td><td>struct[2]</td><td>struct[2]</td><td>struct[2]</td><td>struct[2]</td><td>struct[2]</td><td>struct[2]</td><td>struct[2]</td><td>struct[2]</td><td>struct[2]</td><td>struct[2]</td><td>struct[2]</td><td>struct[2]</td><td>struct[2]</td><td>struct[2]</td></tr></thead><tbody><tr><td>{&quot;Software Engineer&quot;,804}</td><td>{&quot;Senior Software Engineer&quot;,609}</td><td>{&quot;Product Manager&quot;,452}</td><td>{&quot;Data Engineer&quot;,372}</td><td>{&quot;Project Engineer&quot;,370}</td><td>{&quot;Security Officer&quot;,360}</td><td>{&quot;DevOps Engineer&quot;,350}</td><td>{&quot;Electrical Engineer&quot;,350}</td><td>{&quot;Program Manager&quot;,341}</td><td>{&quot;Data Analyst&quot;,317}</td><td>{&quot;Mechanical Engineer&quot;,276}</td><td>{&quot;Software Developer&quot;,263}</td><td>{&quot;Full Stack Developer&quot;,256}</td><td>{&quot;Data Scientist&quot;,245}</td><td>{&quot;Systems Engineer&quot;,236}</td><td>{&quot;Network Engineer&quot;,233}</td><td>{&quot;Security Guard&quot;,232}</td><td>{&quot;Quality Engineer&quot;,230}</td><td>{&quot;Retail Front End Supervisor&quot;,202}</td><td>{&quot;Process Engineer&quot;,195}</td><td>{&quot;Manufacturing Engineer&quot;,193}</td><td>{&quot;Engineering Manager&quot;,190}</td><td>{&quot;Senior Data Engineer&quot;,188}</td><td>{&quot;Application Developer: Cloud FullStack&quot;,184}</td><td>{&quot;Senior DevOps Engineer&quot;,163}</td><td>{&quot;Sales Engineer&quot;,161}</td><td>{&quot;Senior Product Manager&quot;,161}</td><td>{&quot;Senior Software Developer&quot;,157}</td><td>{&quot;Technical Writer&quot;,151}</td><td>{&quot;Field Service Engineer&quot;,150}</td><td>{&quot;Site Reliability Engineer&quot;,147}</td><td>{&quot;Product Owner&quot;,144}</td><td>{&quot;Android Developer&quot;,133}</td><td>{&quot;Backend Developer&quot;,132}</td><td>{&quot;Civil Engineer&quot;,130}</td><td>{&quot;Engineer&quot;,127}</td><td>{&quot;QA Engineer&quot;,124}</td><td>&hellip;</td><td>{&quot;Wind Engineer (Offshore) - Expression of Interest&quot;,1}</td><td>{&quot;Building Electrical Engineering Intern - Summer 2024&quot;,1}</td><td>{&quot;Principal Research Engineer, Dynamically Reconfigurable Real-time Systems&quot;,1}</td><td>{&quot;Software Engineer (Backend NodeJS) - Flutter Studios&quot;,1}</td><td>{&quot;Environmental Engineer, Scientist, or Geologist&quot;,1}</td><td>{&quot;Security Field Supervisor Armed - County&quot;,1}</td><td>{&quot;Engineer Apprentice&quot;,1}</td><td>{&quot;Cloud Analyst&quot;,1}</td><td>{&quot;Security Attendant (Seasonal)&quot;,1}</td><td>{&quot;Junior développeur Front/back-end / NodeJS – Fintech&quot;,1}</td><td>{&quot;2024 Summer Undergraduate Intern/Co-op - Manufacturing Engineer&quot;,1}</td><td>{&quot;Automation QA Engineer (Backup)&quot;,1}</td><td>{&quot;Embedded C Software Engineer with Classic AUTOSAR for ADAS Integration Platform, Engineering Center, Sibiu&quot;,1}</td><td>{&quot;Switchgear Quotations Engineer&quot;,1}</td><td>{&quot;SWQA Automation and Tools Development Engineer&quot;,1}</td><td>{&quot;Data Engineer (Questionnaire)&quot;,1}</td><td>{&quot;Werkstudent (m/w/d) für Software-Tests&quot;,1}</td><td>{&quot;Chemical Process Engineer Lead&quot;,1}</td><td>{&quot;Data Scientist, AVP - People Analytics&quot;,1}</td><td>{&quot;Requirements &amp; Systems Engineer&quot;,1}</td><td>{&quot;Test Automation Engineer (234406)&quot;,1}</td><td>{&quot;Designer - Design Studios&quot;,1}</td><td>{&quot;Mobile Developer iOS/Android&quot;,1}</td><td>{&quot;Oracle Integration Cloud Developer�// Remote Mexico&quot;,1}</td><td>{&quot;Softwaretester - Luftfahrt (all gender)&quot;,1}</td><td>{&quot;Reverse Engineering Analyst (8624)&quot;,1}</td><td>{&quot;Senior Full Stack Software Engineer (Remote)&quot;,1}</td><td>{&quot;Cloud Information Systems Security Specialist (Active Secret)&quot;,1}</td><td>{&quot;(Sr.) Product Manager&quot;,1}</td><td>{&quot;Cost Engineer (Life Sciences/Pharma/Data Centres)&quot;,1}</td><td>{&quot;Blockchain Security Engineer (Contractor)&quot;,1}</td><td>{&quot;Senior Cybersecurity Penetration Test Specialist&quot;,1}</td><td>{&quot;Transitioning Military Talent - Field Service Engineer Opportunities&quot;,1}</td><td>{&quot;Security Technology Sales Engineer&quot;,1}</td><td>{&quot;Fire Protection Engineer (3+ years)&quot;,1}</td><td>{&quot;Computer Vision Engineer (Chennai)&quot;,1}</td><td>{&quot;Associate Engineering Specialist - FITS 083&quot;,1}</td></tr></tbody></table></div>"
      ],
      "text/plain": [
       "shape: (1, 66_333)\n",
       "┌────────────────┬───────────────────┬─────────────────────────┬───────────────────────┬───┬───────────────────────────────────┬───────────────────┬───────────────────┬─────────────────────────┐\n",
       "│ column_0       ┆ column_1          ┆ column_2                ┆ column_3              ┆ … ┆ column_66329                      ┆ column_66330      ┆ column_66331      ┆ column_66332            │\n",
       "│ ---            ┆ ---               ┆ ---                     ┆ ---                   ┆   ┆ ---                               ┆ ---               ┆ ---               ┆ ---                     │\n",
       "│ struct[2]      ┆ struct[2]         ┆ struct[2]               ┆ struct[2]             ┆   ┆ struct[2]                         ┆ struct[2]         ┆ struct[2]         ┆ struct[2]               │\n",
       "╞════════════════╪═══════════════════╪═════════════════════════╪═══════════════════════╪═══╪═══════════════════════════════════╪═══════════════════╪═══════════════════╪═════════════════════════╡\n",
       "│ {\"Software     ┆ {\"Senior Software ┆ {\"Product Manager\",452} ┆ {\"Data Engineer\",372} ┆ … ┆ {\"Security Technology Sales Engi… ┆ {\"Fire Protection ┆ {\"Computer Vision ┆ {\"Associate Engineering │\n",
       "│ Engineer\",804} ┆ Engineer\",609}    ┆                         ┆                       ┆   ┆                                   ┆ Engineer (3+ y…   ┆ Engineer (Chen…   ┆ Speciali…               │\n",
       "└────────────────┴───────────────────┴─────────────────────────┴───────────────────────┴───┴───────────────────────────────────┴───────────────────┴───────────────────┴─────────────────────────┘"
      ]
     },
     "execution_count": 23,
     "metadata": {},
     "output_type": "execute_result"
    }
   ],
   "source": [
    "whole_df.select(pl.col('job_name').value_counts(sort=True)).transpose()"
   ]
  },
  {
   "cell_type": "code",
   "execution_count": 24,
   "id": "3d848643-8f94-4d60-bcae-1fc2105eab86",
   "metadata": {},
   "outputs": [
    {
     "data": {
      "text/html": [
       "<div><style>\n",
       ".dataframe > thead > tr,\n",
       ".dataframe > tbody > tr {\n",
       "  text-align: right;\n",
       "  white-space: pre-wrap;\n",
       "}\n",
       "</style>\n",
       "<small>shape: (28_782, 1)</small><table border=\"1\" class=\"dataframe\"><thead><tr><th>company_name</th></tr><tr><td>struct[2]</td></tr></thead><tbody><tr><td>{null,6266}</td></tr><tr><td>{&quot;IBM&quot;,2683}</td></tr><tr><td>{&quot;Allied Universal&quot;,1057}</td></tr><tr><td>{&quot;CLBPTS&quot;,668}</td></tr><tr><td>{&quot;Bosch Group&quot;,533}</td></tr><tr><td>&hellip;</td></tr><tr><td>{&quot;Ground Recruitment&quot;,1}</td></tr><tr><td>{&quot;ramblr.ai&quot;,1}</td></tr><tr><td>{&quot;UPL-&quot;,1}</td></tr><tr><td>{&quot;Mogo Finance Technology&quot;,1}</td></tr><tr><td>{&quot;Jump Trading&quot;,1}</td></tr></tbody></table></div>"
      ],
      "text/plain": [
       "shape: (28_782, 1)\n",
       "┌───────────────────────────────┐\n",
       "│ company_name                  │\n",
       "│ ---                           │\n",
       "│ struct[2]                     │\n",
       "╞═══════════════════════════════╡\n",
       "│ {null,6266}                   │\n",
       "│ {\"IBM\",2683}                  │\n",
       "│ {\"Allied Universal\",1057}     │\n",
       "│ {\"CLBPTS\",668}                │\n",
       "│ {\"Bosch Group\",533}           │\n",
       "│ …                             │\n",
       "│ {\"Ground Recruitment\",1}      │\n",
       "│ {\"ramblr.ai\",1}               │\n",
       "│ {\"UPL-\",1}                    │\n",
       "│ {\"Mogo Finance Technology\",1} │\n",
       "│ {\"Jump Trading\",1}            │\n",
       "└───────────────────────────────┘"
      ]
     },
     "execution_count": 24,
     "metadata": {},
     "output_type": "execute_result"
    }
   ],
   "source": [
    "whole_df.select(pl.col('company_name').value_counts(sort=True))"
   ]
  },
  {
   "cell_type": "code",
   "execution_count": 25,
   "id": "6929c190-2cb0-48b2-bffc-c799880d21b2",
   "metadata": {},
   "outputs": [
    {
     "data": {
      "text/html": [
       "<div><style>\n",
       ".dataframe > thead > tr,\n",
       ".dataframe > tbody > tr {\n",
       "  text-align: right;\n",
       "  white-space: pre-wrap;\n",
       "}\n",
       "</style>\n",
       "<small>shape: (11_792, 2)</small><table border=\"1\" class=\"dataframe\"><thead><tr><th>company_name</th><th>count</th></tr><tr><td>str</td><td>u32</td></tr></thead><tbody><tr><td>&quot;IBM&quot;</td><td>2683</td></tr><tr><td>&quot;Allied Univers…</td><td>1057</td></tr><tr><td>&quot;CLBPTS&quot;</td><td>668</td></tr><tr><td>&quot;Bosch Group&quot;</td><td>533</td></tr><tr><td>&quot;Schneider Elec…</td><td>397</td></tr><tr><td>&hellip;</td><td>&hellip;</td></tr><tr><td>&quot;Amazon (China)…</td><td>2</td></tr><tr><td>&quot;Gap&quot;</td><td>2</td></tr><tr><td>&quot;Cherry Venture…</td><td>2</td></tr><tr><td>&quot;collectAI&quot;</td><td>2</td></tr><tr><td>&quot;Groom &amp; Associ…</td><td>2</td></tr></tbody></table></div>"
      ],
      "text/plain": [
       "shape: (11_792, 2)\n",
       "┌───────────────────────────────────┬───────┐\n",
       "│ company_name                      ┆ count │\n",
       "│ ---                               ┆ ---   │\n",
       "│ str                               ┆ u32   │\n",
       "╞═══════════════════════════════════╪═══════╡\n",
       "│ IBM                               ┆ 2683  │\n",
       "│ Allied Universal                  ┆ 1057  │\n",
       "│ CLBPTS                            ┆ 668   │\n",
       "│ Bosch Group                       ┆ 533   │\n",
       "│ Schneider Electric                ┆ 397   │\n",
       "│ …                                 ┆ …     │\n",
       "│ Amazon (China) Holding Company L… ┆ 2     │\n",
       "│ Gap                               ┆ 2     │\n",
       "│ Cherry Ventures                   ┆ 2     │\n",
       "│ collectAI                         ┆ 2     │\n",
       "│ Groom & Associates                ┆ 2     │\n",
       "└───────────────────────────────────┴───────┘"
      ]
     },
     "execution_count": 25,
     "metadata": {},
     "output_type": "execute_result"
    }
   ],
   "source": [
    "(whole_df\n",
    " .group_by('company_name')\n",
    " .agg(pl.col('company_name').count().alias('count'))\n",
    " .filter(pl.col('count')>1)\n",
    " .sort('count', descending=True)\n",
    ")"
   ]
  },
  {
   "cell_type": "code",
   "execution_count": 26,
   "id": "668bec79-5abe-429f-aea5-981345f3e870",
   "metadata": {},
   "outputs": [
    {
     "data": {
      "text/html": [
       "<div><style>\n",
       ".dataframe > thead > tr,\n",
       ".dataframe > tbody > tr {\n",
       "  text-align: right;\n",
       "  white-space: pre-wrap;\n",
       "}\n",
       "</style>\n",
       "<small>shape: (2_896, 2)</small><table border=\"1\" class=\"dataframe\"><thead><tr><th>job_name</th><th>count</th></tr><tr><td>str</td><td>u32</td></tr></thead><tbody><tr><td>&quot;Software Engin…</td><td>804</td></tr><tr><td>&quot;Senior Softwar…</td><td>609</td></tr><tr><td>&quot;Product Manage…</td><td>452</td></tr><tr><td>&quot;Data Engineer&quot;</td><td>372</td></tr><tr><td>&quot;Project Engine…</td><td>370</td></tr><tr><td>&hellip;</td><td>&hellip;</td></tr><tr><td>&quot;Data Engineer …</td><td>3</td></tr><tr><td>&quot;Clinical Engin…</td><td>3</td></tr><tr><td>&quot;Information Se…</td><td>3</td></tr><tr><td>&quot;Junior Civil E…</td><td>3</td></tr><tr><td>&quot;Quality Engine…</td><td>3</td></tr></tbody></table></div>"
      ],
      "text/plain": [
       "shape: (2_896, 2)\n",
       "┌───────────────────────────────────┬───────┐\n",
       "│ job_name                          ┆ count │\n",
       "│ ---                               ┆ ---   │\n",
       "│ str                               ┆ u32   │\n",
       "╞═══════════════════════════════════╪═══════╡\n",
       "│ Software Engineer                 ┆ 804   │\n",
       "│ Senior Software Engineer          ┆ 609   │\n",
       "│ Product Manager                   ┆ 452   │\n",
       "│ Data Engineer                     ┆ 372   │\n",
       "│ Project Engineer                  ┆ 370   │\n",
       "│ …                                 ┆ …     │\n",
       "│ Data Engineer - Categorie Protet… ┆ 3     │\n",
       "│ Clinical Engineering IT Technici… ┆ 3     │\n",
       "│ Information Security Advisor      ┆ 3     │\n",
       "│ Junior Civil Engineer             ┆ 3     │\n",
       "│ Quality Engineer - Albert St      ┆ 3     │\n",
       "└───────────────────────────────────┴───────┘"
      ]
     },
     "execution_count": 26,
     "metadata": {},
     "output_type": "execute_result"
    }
   ],
   "source": [
    "(whole_df\n",
    " .group_by('job_name')\n",
    " .agg(pl.col('job_name').count().alias('count'))\n",
    " .filter(pl.col('count')>2)\n",
    " .sort('count', descending=True)\n",
    ")"
   ]
  },
  {
   "cell_type": "code",
   "execution_count": 27,
   "id": "25cc973f-759d-4d66-8634-e4b77c339934",
   "metadata": {},
   "outputs": [],
   "source": [
    "data_job = (whole_df\n",
    " .filter(pl.col('job_name').str.contains('(?i)data'))\n",
    " .group_by('job_name')\n",
    " .agg(pl.col('job_name').count().alias('count'))\n",
    " .sort('count', descending=True)\n",
    ")"
   ]
  },
  {
   "cell_type": "code",
   "execution_count": 28,
   "id": "35b5aa6b-0c65-4936-8a53-86b6cfd8280d",
   "metadata": {
    "jp-MarkdownHeadingCollapsed": true
   },
   "outputs": [
    {
     "name": "stdout",
     "output_type": "stream",
     "text": [
      "Requirement already satisfied: thefuzz in /home/anopsy/Portfolio/sourcestack/sstack/lib/python3.10/site-packages (0.22.1)\n",
      "Requirement already satisfied: rapidfuzz<4.0.0,>=3.0.0 in /home/anopsy/Portfolio/sourcestack/sstack/lib/python3.10/site-packages (from thefuzz) (3.8.1)\n"
     ]
    }
   ],
   "source": [
    "!pip install thefuzz"
   ]
  },
  {
   "cell_type": "code",
   "execution_count": 29,
   "id": "014a9335-a93b-4073-9b16-983153a31b11",
   "metadata": {},
   "outputs": [
    {
     "ename": "ModuleNotFoundError",
     "evalue": "No module named 'thefuzz'",
     "output_type": "error",
     "traceback": [
      "\u001b[0;31m---------------------------------------------------------------------------\u001b[0m",
      "\u001b[0;31mModuleNotFoundError\u001b[0m                       Traceback (most recent call last)",
      "Cell \u001b[0;32mIn[29], line 1\u001b[0m\n\u001b[0;32m----> 1\u001b[0m \u001b[38;5;28;01mfrom\u001b[39;00m \u001b[38;5;21;01mthefuzz\u001b[39;00m \u001b[38;5;28;01mimport\u001b[39;00m process\n",
      "\u001b[0;31mModuleNotFoundError\u001b[0m: No module named 'thefuzz'"
     ]
    }
   ],
   "source": [
    "from thefuzz import process"
   ]
  },
  {
   "cell_type": "code",
   "execution_count": null,
   "id": "dcd8d56a-e906-4484-83c4-40367824e1e4",
   "metadata": {},
   "outputs": [],
   "source": [
    "data_job.map_rows(lambda t: process.extract('data', t[0], scorer=fuzz.ratio))"
   ]
  },
  {
   "cell_type": "code",
   "execution_count": null,
   "id": "5bd8f3a5-35c3-4bae-83c3-ac4732541bb4",
   "metadata": {},
   "outputs": [],
   "source": [
    "whole_df.select(pl.col('company_name').value_counts(sort=True)).transpose()"
   ]
  },
  {
   "cell_type": "code",
   "execution_count": null,
   "id": "aab95e93-673e-443a-a637-c2689362b2db",
   "metadata": {},
   "outputs": [],
   "source": [
    "newss_df.select(pl.col('seniority').value_counts(sort=True)).transpose()"
   ]
  },
  {
   "cell_type": "code",
   "execution_count": null,
   "id": "54d4ec80-7235-445c-9f79-d346eaf230dc",
   "metadata": {},
   "outputs": [],
   "source": [
    "newss_df.select(pl.col('hours').value_counts(sort=True)).transpose()"
   ]
  },
  {
   "cell_type": "code",
   "execution_count": null,
   "id": "feab5d07-268a-437d-ab54-162191cd14d0",
   "metadata": {},
   "outputs": [],
   "source": [
    "newss_df.select(pl.col('language').value_counts(sort=True)).transpose()"
   ]
  },
  {
   "cell_type": "code",
   "execution_count": null,
   "id": "04e58ee7-f047-4e94-a955-e57f79298168",
   "metadata": {},
   "outputs": [],
   "source": [
    "newss_df.select(pl.col('country').value_counts(sort=True)).transpose()"
   ]
  },
  {
   "cell_type": "code",
   "execution_count": null,
   "id": "beb1aad8-ac62-4c72-b524-212ea81fc856",
   "metadata": {},
   "outputs": [],
   "source": [
    "date_data_new = newss_df.select(cs.date())\n",
    "bool_data_new = newss_df.select(cs.by_dtype(pl.Boolean))\n",
    "string_data_new = newss_df.select(cs.string(include_categorical=True))\n",
    "nested_data_new = newss_df.select(cs.by_name('tags_matched', 'tag_categories','categories'))\n",
    "num_data_new = newss_df.select(cs.float())"
   ]
  },
  {
   "cell_type": "code",
   "execution_count": null,
   "id": "ae63352b-2bdb-4e33-b2b1-e6c15de01472",
   "metadata": {},
   "outputs": [],
   "source": [
    "newss_df.select(pl.col('job_location').value_counts(sort=True))"
   ]
  },
  {
   "cell_type": "code",
   "execution_count": null,
   "id": "05913036-a2f4-4032-84e7-353b61a4b132",
   "metadata": {},
   "outputs": [],
   "source": []
  },
  {
   "cell_type": "code",
   "execution_count": null,
   "id": "4f804a0e-9341-4cb4-b22c-ba2f2e8c2bfb",
   "metadata": {},
   "outputs": [],
   "source": [
    "print(f'date type columns:{date_data_new.columns}')\n",
    "print(f'bool type columns:{bool_data_new.columns}')\n",
    "print(f'string type columns:{string_data_new.columns}')\n",
    "print(f'nested type columns:{nested_data_new.columns}')"
   ]
  },
  {
   "cell_type": "code",
   "execution_count": null,
   "id": "b5800eeb-37f7-44d9-91e0-4ac63c5af15c",
   "metadata": {},
   "outputs": [],
   "source": [
    "date_data_old = oldss_df.select(cs.date())\n",
    "bool_data_old = oldss_df.select(cs.by_dtype(pl.Boolean))\n",
    "string_data_old = oldss_df.select(cs.string(include_categorical=True))"
   ]
  },
  {
   "cell_type": "code",
   "execution_count": null,
   "id": "3c7b2ac8-4f45-476d-8a1f-bc747e0fa18c",
   "metadata": {},
   "outputs": [],
   "source": [
    "print(f'date type columns:{date_data_old.columns}')\n",
    "print(f'bool type columns:{bool_data_old.columns}')\n",
    "print(f'string type columns:{string_data_old.columns}')"
   ]
  },
  {
   "cell_type": "code",
   "execution_count": null,
   "id": "ed1c729c-7f8c-4ae6-9d68-4b3e44694a4d",
   "metadata": {},
   "outputs": [],
   "source": [
    "missing_old = (\n",
    "    oldss_df.select(pl.all().is_null().sum())\n",
    "    .melt(value_name=\"missing\")\n",
    "    .filter(pl.col(\"missing\") > 0)\n",
    ")"
   ]
  },
  {
   "cell_type": "code",
   "execution_count": null,
   "id": "2030a26c-8085-4fda-9a97-007047266106",
   "metadata": {},
   "outputs": [],
   "source": [
    "missing_new = (\n",
    "    newss_df.select(pl.all().is_null().sum())\n",
    "    .melt(value_name=\"missing\")\n",
    "    .filter(pl.col(\"missing\") > 0)\n",
    ")"
   ]
  },
  {
   "cell_type": "code",
   "execution_count": null,
   "id": "7d4cd179-0d2a-47cf-89c2-4f3deec20c65",
   "metadata": {},
   "outputs": [],
   "source": [
    "missing_old.transpose()"
   ]
  },
  {
   "cell_type": "code",
   "execution_count": null,
   "id": "3cd1f611-b007-4fea-b5b5-51ccb12c75cf",
   "metadata": {},
   "outputs": [],
   "source": [
    "missing_new.transpose()"
   ]
  },
  {
   "cell_type": "code",
   "execution_count": null,
   "id": "c21e69fc-8747-433d-bcbd-f0431d8743d8",
   "metadata": {},
   "outputs": [],
   "source": [
    "print(string_data_new)"
   ]
  },
  {
   "cell_type": "code",
   "execution_count": null,
   "id": "f0d6d91f-8813-4174-a7e7-3a512d6446a5",
   "metadata": {},
   "outputs": [],
   "source": []
  },
  {
   "cell_type": "code",
   "execution_count": null,
   "id": "ad99eee0-6836-46cd-aa93-e08268389ba6",
   "metadata": {},
   "outputs": [],
   "source": []
  },
  {
   "cell_type": "code",
   "execution_count": null,
   "id": "4b779476-f822-4118-ac1b-27472ca98311",
   "metadata": {},
   "outputs": [],
   "source": [
    "import missingno as msno"
   ]
  },
  {
   "cell_type": "code",
   "execution_count": null,
   "id": "a2f7ef3e-70ee-4869-a32f-fc8dfca04771",
   "metadata": {},
   "outputs": [],
   "source": []
  }
 ],
 "metadata": {
  "kernelspec": {
   "display_name": "venv",
   "language": "python",
   "name": "venv"
  },
  "language_info": {
   "codemirror_mode": {
    "name": "ipython",
    "version": 3
   },
   "file_extension": ".py",
   "mimetype": "text/x-python",
   "name": "python",
   "nbconvert_exporter": "python",
   "pygments_lexer": "ipython3",
   "version": "3.10.12"
  }
 },
 "nbformat": 4,
 "nbformat_minor": 5
}
