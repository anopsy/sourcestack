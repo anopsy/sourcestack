{
 "cells": [
  {
   "cell_type": "code",
   "execution_count": 1,
   "id": "e4d063b9-f80e-41a4-9667-06eb21422835",
   "metadata": {},
   "outputs": [],
   "source": [
    "import polars as pl\n",
    "import pandas as pd"
   ]
  },
  {
   "cell_type": "code",
   "execution_count": 2,
   "id": "7f51f28f-1eef-4314-9b69-5fd299a32dee",
   "metadata": {},
   "outputs": [],
   "source": [
    "old_data_path1 = '/home/anopsy/Portfolio/sourcestack/data/9june2023smaller.csv'\n",
    "old_data_path2 = '/home/anopsy/Portfolio/sourcestack/data/9june2023bigger.csv'\n",
    "new_data_path = '/home/anopsy/Portfolio/sourcestack/data/2april2024.csv'"
   ]
  },
  {
   "cell_type": "code",
   "execution_count": 3,
   "id": "a3de9791-fe88-4223-99e2-4095ec12012f",
   "metadata": {},
   "outputs": [],
   "source": [
    "old_df1 = pl.read_csv(old_data_path1, try_parse_dates=False)\n",
    "old_df2 = pl.read_csv(old_data_path2, try_parse_dates=False)\n",
    "new_df = pl.read_csv(new_data_path, try_parse_dates=False)"
   ]
  },
  {
   "cell_type": "code",
   "execution_count": 4,
   "id": "0cbe0da3-ae72-414a-bade-e731dff1f168",
   "metadata": {},
   "outputs": [
    {
     "name": "stdout",
     "output_type": "stream",
     "text": [
      "Shape of the old data1 is:(50000, 16)\n",
      "Shape of the old data2 is:(50000, 16)\n",
      "Shape of the new data is:(50000, 16)\n"
     ]
    }
   ],
   "source": [
    "print(f'Shape of the old data1 is:{old_df1.shape}')\n",
    "print(f'Shape of the old data2 is:{old_df2.shape}')\n",
    "print(f'Shape of the new data is:{new_df.shape}')"
   ]
  },
  {
   "cell_type": "code",
   "execution_count": 5,
   "id": "0b300a9e-54ca-46ac-8708-b43a0fe80710",
   "metadata": {},
   "outputs": [
    {
     "data": {
      "text/html": [
       "<div><style>\n",
       ".dataframe > thead > tr,\n",
       ".dataframe > tbody > tr {\n",
       "  text-align: right;\n",
       "  white-space: pre-wrap;\n",
       "}\n",
       "</style>\n",
       "<small>shape: (5, 16)</small><table border=\"1\" class=\"dataframe\"><thead><tr><th>job_name</th><th>job_location</th><th>hours</th><th>remote</th><th>company_name</th><th>education</th><th>tags_matched</th><th>tag_categories</th><th>categories</th><th>seniority</th><th>comp_est</th><th>language</th><th>city</th><th>country</th><th>job_published_at</th><th>last_indexed</th></tr><tr><td>str</td><td>str</td><td>str</td><td>bool</td><td>str</td><td>str</td><td>str</td><td>str</td><td>str</td><td>str</td><td>str</td><td>str</td><td>str</td><td>str</td><td>str</td><td>str</td></tr></thead><tbody><tr><td>&quot;Backend Develo…</td><td>&quot;Praha, Czech R…</td><td>null</td><td>null</td><td>&quot;IBM&quot;</td><td>null</td><td>&quot;[Docker, Graph…</td><td>&quot;[Container Orc…</td><td>&quot;[Software]&quot;</td><td>null</td><td>&quot;&quot;</td><td>&quot;pl&quot;</td><td>&quot;Praha&quot;</td><td>&quot;Czech Republic…</td><td>&quot;2023-03-13 05:…</td><td>&quot;2023-06-05 13:…</td></tr><tr><td>&quot;Manufacturing …</td><td>null</td><td>&quot;Full-Time&quot;</td><td>false</td><td>null</td><td>null</td><td>&quot;[Sigma]&quot;</td><td>&quot;[Tools, Server…</td><td>&quot;[Manufacturing…</td><td>null</td><td>&quot;&quot;</td><td>&quot;en&quot;</td><td>&quot;Sterling Heigh…</td><td>&quot;United States&quot;</td><td>&quot;2021-10-09 00:…</td><td>&quot;2023-05-24 05:…</td></tr><tr><td>&quot;Design Enginee…</td><td>&quot;520 S Byrkit S…</td><td>&quot;Full-Time&quot;</td><td>null</td><td>&quot;ABI Attachment…</td><td>&quot;Bachelors&quot;</td><td>&quot;[]&quot;</td><td>&quot;[]&quot;</td><td>&quot;[Design]&quot;</td><td>&quot;Senior IC&quot;</td><td>&quot;&quot;</td><td>&quot;en&quot;</td><td>&quot;Mishawaka&quot;</td><td>&quot;United States&quot;</td><td>&quot;2023-04-28 03:…</td><td>&quot;2023-05-19 14:…</td></tr><tr><td>&quot;Cybersecurity …</td><td>null</td><td>&quot;Full-Time&quot;</td><td>false</td><td>null</td><td>&quot;Bachelors&quot;</td><td>&quot;[AWS, Qualys, …</td><td>&quot;[Compute, Logg…</td><td>&quot;[Cybersecurity…</td><td>null</td><td>&quot;&quot;</td><td>&quot;en&quot;</td><td>&quot;Herndon&quot;</td><td>&quot;United States&quot;</td><td>&quot;2023-04-03 00:…</td><td>&quot;2023-05-28 11:…</td></tr><tr><td>&quot;Your Career so…</td><td>&quot;Kolkata, India…</td><td>&quot;Full-Time&quot;</td><td>false</td><td>&quot;Adeeba e Servi…</td><td>null</td><td>&quot;[Objective-C, …</td><td>&quot;[Cloud Native …</td><td>&quot;[Software]&quot;</td><td>null</td><td>&quot;&quot;</td><td>&quot;en&quot;</td><td>&quot;Kolkata&quot;</td><td>&quot;India&quot;</td><td>&quot;2017-01-17 11:…</td><td>&quot;2023-05-30 11:…</td></tr></tbody></table></div>"
      ],
      "text/plain": [
       "shape: (5, 16)\n",
       "┌────────────┬────────────┬───────────┬────────┬───┬───────────┬───────────┬───────────┬───────────┐\n",
       "│ job_name   ┆ job_locati ┆ hours     ┆ remote ┆ … ┆ city      ┆ country   ┆ job_publi ┆ last_inde │\n",
       "│ ---        ┆ on         ┆ ---       ┆ ---    ┆   ┆ ---       ┆ ---       ┆ shed_at   ┆ xed       │\n",
       "│ str        ┆ ---        ┆ str       ┆ bool   ┆   ┆ str       ┆ str       ┆ ---       ┆ ---       │\n",
       "│            ┆ str        ┆           ┆        ┆   ┆           ┆           ┆ str       ┆ str       │\n",
       "╞════════════╪════════════╪═══════════╪════════╪═══╪═══════════╪═══════════╪═══════════╪═══════════╡\n",
       "│ Backend    ┆ Praha,     ┆ null      ┆ null   ┆ … ┆ Praha     ┆ Czech     ┆ 2023-03-1 ┆ 2023-06-0 │\n",
       "│ Developer  ┆ Czech      ┆           ┆        ┆   ┆           ┆ Republic  ┆ 3         ┆ 5         │\n",
       "│            ┆ Republic   ┆           ┆        ┆   ┆           ┆           ┆ 05:12:29  ┆ 13:43:49  │\n",
       "│ Manufactur ┆ null       ┆ Full-Time ┆ false  ┆ … ┆ Sterling  ┆ United    ┆ 2021-10-0 ┆ 2023-05-2 │\n",
       "│ ing        ┆            ┆           ┆        ┆   ┆ Heights   ┆ States    ┆ 9         ┆ 4         │\n",
       "│ Engineer   ┆            ┆           ┆        ┆   ┆           ┆           ┆ 00:00:00  ┆ 05:35:57  │\n",
       "│ Design     ┆ 520 S      ┆ Full-Time ┆ null   ┆ … ┆ Mishawaka ┆ United    ┆ 2023-04-2 ┆ 2023-05-1 │\n",
       "│ Engineer,  ┆ Byrkit St  ┆           ┆        ┆   ┆           ┆ States    ┆ 8         ┆ 9         │\n",
       "│ Motorized  ┆ Mishawaka, ┆           ┆        ┆   ┆           ┆           ┆ 03:04:28  ┆ 14:48:10  │\n",
       "│ Produ…     ┆ India…     ┆           ┆        ┆   ┆           ┆           ┆           ┆           │\n",
       "│ Cybersecur ┆ null       ┆ Full-Time ┆ false  ┆ … ┆ Herndon   ┆ United    ┆ 2023-04-0 ┆ 2023-05-2 │\n",
       "│ ity        ┆            ┆           ┆        ┆   ┆           ┆ States    ┆ 3         ┆ 8         │\n",
       "│ Engineer   ┆            ┆           ┆        ┆   ┆           ┆           ┆ 00:00:00  ┆ 11:47:09  │\n",
       "│ Your       ┆ Kolkata,   ┆ Full-Time ┆ false  ┆ … ┆ Kolkata   ┆ India     ┆ 2017-01-1 ┆ 2023-05-3 │\n",
       "│ Career so  ┆ India      ┆           ┆        ┆   ┆           ┆           ┆ 7         ┆ 0         │\n",
       "│ choose     ┆            ┆           ┆        ┆   ┆           ┆           ┆ 11:35:48  ┆ 11:51:08  │\n",
       "│ wisely     ┆            ┆           ┆        ┆   ┆           ┆           ┆           ┆           │\n",
       "│ wit…       ┆            ┆           ┆        ┆   ┆           ┆           ┆           ┆           │\n",
       "└────────────┴────────────┴───────────┴────────┴───┴───────────┴───────────┴───────────┴───────────┘"
      ]
     },
     "execution_count": 5,
     "metadata": {},
     "output_type": "execute_result"
    }
   ],
   "source": [
    "old_df1.head()"
   ]
  },
  {
   "cell_type": "code",
   "execution_count": 6,
   "id": "720f401b-cdc7-4369-994c-dfd5eb4b568b",
   "metadata": {},
   "outputs": [
    {
     "data": {
      "text/html": [
       "<div><style>\n",
       ".dataframe > thead > tr,\n",
       ".dataframe > tbody > tr {\n",
       "  text-align: right;\n",
       "  white-space: pre-wrap;\n",
       "}\n",
       "</style>\n",
       "<small>shape: (5, 16)</small><table border=\"1\" class=\"dataframe\"><thead><tr><th>job_name</th><th>job_location</th><th>department</th><th>hours</th><th>remote</th><th>company_name</th><th>company_url</th><th>post_url</th><th>tags_matched</th><th>tag_categories</th><th>categories</th><th>seniority</th><th>language</th><th>city</th><th>country</th><th>last_indexed</th></tr><tr><td>str</td><td>str</td><td>str</td><td>str</td><td>bool</td><td>str</td><td>str</td><td>str</td><td>str</td><td>str</td><td>str</td><td>str</td><td>str</td><td>str</td><td>str</td><td>str</td></tr></thead><tbody><tr><td>&quot;Senior Softwar…</td><td>&quot;US-Phoenix, AZ…</td><td>null</td><td>&quot;Full-Time&quot;</td><td>null</td><td>null</td><td>null</td><td>&quot;transperfect.w…</td><td>&quot;[CentOS, React…</td><td>&quot;[SQL, OS, Big …</td><td>&quot;[Software]&quot;</td><td>&quot;Senior IC&quot;</td><td>&quot;en&quot;</td><td>null</td><td>&quot;United States&quot;</td><td>&quot;2023-06-08 12:…</td></tr><tr><td>&quot;Tech Product M…</td><td>&quot;Lakeville&quot;</td><td>null</td><td>&quot;Full-Time&quot;</td><td>null</td><td>&quot;OSC-1000&quot;</td><td>null</td><td>&quot;oceanspray.wd5…</td><td>&quot;[Power BI, SAP…</td><td>&quot;[CDN, Cloud Ma…</td><td>&quot;[Financial Ser…</td><td>&quot;IC&quot;</td><td>&quot;en&quot;</td><td>&quot;Lakeville&quot;</td><td>&quot;United States&quot;</td><td>&quot;2023-06-08 09:…</td></tr><tr><td>&quot;Functional Ver…</td><td>&quot;Bangalore, Ind…</td><td>null</td><td>null</td><td>null</td><td>&quot;IBM&quot;</td><td>null</td><td>&quot;krb-sjobs.bras…</td><td>&quot;[IBM, Blockcha…</td><td>&quot;[Payments, Dat…</td><td>&quot;[IT]&quot;</td><td>null</td><td>&quot;ko&quot;</td><td>&quot;Bangalore&quot;</td><td>&quot;India&quot;</td><td>&quot;2023-05-23 00:…</td></tr><tr><td>&quot;Software Devel…</td><td>&quot;India, Bangalo…</td><td>null</td><td>&quot;Full-Time&quot;</td><td>null</td><td>&quot;157 Musarubra …</td><td>null</td><td>&quot;trellix.wd1.my…</td><td>&quot;[Visual Studio…</td><td>&quot;[IDE, DevOps]&quot;</td><td>&quot;[India-Related…</td><td>null</td><td>&quot;en&quot;</td><td>&quot;Bengaluru&quot;</td><td>&quot;India&quot;</td><td>&quot;2023-06-08 22:…</td></tr><tr><td>&quot;IT DATA ANALYS…</td><td>&quot;France - Toulo…</td><td>null</td><td>&quot;Full-Time&quot;</td><td>null</td><td>&quot;PIERRE FABRE D…</td><td>null</td><td>&quot;pierrefabre.wd…</td><td>&quot;[]&quot;</td><td>&quot;[]&quot;</td><td>&quot;[]&quot;</td><td>&quot;IC&quot;</td><td>&quot;fr&quot;</td><td>&quot;Toulouse&quot;</td><td>&quot;France&quot;</td><td>&quot;2023-06-08 16:…</td></tr></tbody></table></div>"
      ],
      "text/plain": [
       "shape: (5, 16)\n",
       "┌───────────┬───────────┬───────────┬───────────┬───┬──────────┬───────────┬───────────┬───────────┐\n",
       "│ job_name  ┆ job_locat ┆ departmen ┆ hours     ┆ … ┆ language ┆ city      ┆ country   ┆ last_inde │\n",
       "│ ---       ┆ ion       ┆ t         ┆ ---       ┆   ┆ ---      ┆ ---       ┆ ---       ┆ xed       │\n",
       "│ str       ┆ ---       ┆ ---       ┆ str       ┆   ┆ str      ┆ str       ┆ str       ┆ ---       │\n",
       "│           ┆ str       ┆ str       ┆           ┆   ┆          ┆           ┆           ┆ str       │\n",
       "╞═══════════╪═══════════╪═══════════╪═══════════╪═══╪══════════╪═══════════╪═══════════╪═══════════╡\n",
       "│ Senior    ┆ US-Phoeni ┆ null      ┆ Full-Time ┆ … ┆ en       ┆ null      ┆ United    ┆ 2023-06-0 │\n",
       "│ Software  ┆ x, AZ     ┆           ┆           ┆   ┆          ┆           ┆ States    ┆ 8         │\n",
       "│ Engineer  ┆ (4809     ┆           ┆           ┆   ┆          ┆           ┆           ┆ 12:38:37  │\n",
       "│           ┆ Thistle)  ┆           ┆           ┆   ┆          ┆           ┆           ┆           │\n",
       "│ Tech      ┆ Lakeville ┆ null      ┆ Full-Time ┆ … ┆ en       ┆ Lakeville ┆ United    ┆ 2023-06-0 │\n",
       "│ Product   ┆           ┆           ┆           ┆   ┆          ┆           ┆ States    ┆ 8         │\n",
       "│ Manager,  ┆           ┆           ┆           ┆   ┆          ┆           ┆           ┆ 09:55:51  │\n",
       "│ Finance   ┆           ┆           ┆           ┆   ┆          ┆           ┆           ┆           │\n",
       "│ Functiona ┆ Bangalore ┆ null      ┆ null      ┆ … ┆ ko       ┆ Bangalore ┆ India     ┆ 2023-05-2 │\n",
       "│ l Verific ┆ , India   ┆           ┆           ┆   ┆          ┆           ┆           ┆ 3         │\n",
       "│ ation     ┆           ┆           ┆           ┆   ┆          ┆           ┆           ┆ 00:35:34  │\n",
       "│ Engineer  ┆           ┆           ┆           ┆   ┆          ┆           ┆           ┆           │\n",
       "│ Software  ┆ India,    ┆ null      ┆ Full-Time ┆ … ┆ en       ┆ Bengaluru ┆ India     ┆ 2023-06-0 │\n",
       "│ Developme ┆ Bangalore ┆           ┆           ┆   ┆          ┆           ┆           ┆ 8         │\n",
       "│ nt        ┆           ┆           ┆           ┆   ┆          ┆           ┆           ┆ 22:33:03  │\n",
       "│ Engineer  ┆           ┆           ┆           ┆   ┆          ┆           ┆           ┆           │\n",
       "│ IT DATA   ┆ France -  ┆ null      ┆ Full-Time ┆ … ┆ fr       ┆ Toulouse  ┆ France    ┆ 2023-06-0 │\n",
       "│ ANALYST   ┆ Toulouse  ┆           ┆           ┆   ┆          ┆           ┆           ┆ 8         │\n",
       "│ H/F ALTER ┆ -         ┆           ┆           ┆   ┆          ┆           ┆           ┆ 16:05:10  │\n",
       "│ NANCE     ┆ Langlade  ┆           ┆           ┆   ┆          ┆           ┆           ┆           │\n",
       "└───────────┴───────────┴───────────┴───────────┴───┴──────────┴───────────┴───────────┴───────────┘"
      ]
     },
     "execution_count": 6,
     "metadata": {},
     "output_type": "execute_result"
    }
   ],
   "source": [
    "old_df2.head() #this old data has different fields than new_df I will proceed with old_df1 and new_df"
   ]
  },
  {
   "cell_type": "code",
   "execution_count": 7,
   "id": "34fa2ecc-343f-49fa-9db4-e728e5425a9a",
   "metadata": {},
   "outputs": [
    {
     "data": {
      "text/html": [
       "<div><style>\n",
       ".dataframe > thead > tr,\n",
       ".dataframe > tbody > tr {\n",
       "  text-align: right;\n",
       "  white-space: pre-wrap;\n",
       "}\n",
       "</style>\n",
       "<small>shape: (5, 16)</small><table border=\"1\" class=\"dataframe\"><thead><tr><th>job_name</th><th>job_location</th><th>hours</th><th>remote</th><th>company_name</th><th>education</th><th>tags_matched</th><th>tag_categories</th><th>categories</th><th>seniority</th><th>comp_est</th><th>language</th><th>city</th><th>country</th><th>job_published_at</th><th>last_indexed</th></tr><tr><td>str</td><td>str</td><td>str</td><td>bool</td><td>str</td><td>str</td><td>str</td><td>str</td><td>str</td><td>str</td><td>str</td><td>str</td><td>str</td><td>str</td><td>str</td><td>str</td></tr></thead><tbody><tr><td>&quot;Dir, Engineeri…</td><td>&quot;Dominican Repu…</td><td>&quot;Full-Time&quot;</td><td>null</td><td>&quot;DR&quot;</td><td>&quot;Bachelors&quot;</td><td>&quot;[Microsoft]&quot;</td><td>&quot;[]&quot;</td><td>&quot;[]&quot;</td><td>null</td><td>null</td><td>&quot;en&quot;</td><td>null</td><td>&quot;Dominican Repu…</td><td>&quot;2024-03-04 00:…</td><td>&quot;2024-03-26 08:…</td></tr><tr><td>&quot;Software Engin…</td><td>&quot;Dresden or Har…</td><td>&quot;Full-Time&quot;</td><td>null</td><td>&quot;Manning Global…</td><td>null</td><td>&quot;[Linux]&quot;</td><td>&quot;[OS]&quot;</td><td>&quot;[Software, IT]…</td><td>null</td><td>null</td><td>&quot;en&quot;</td><td>&quot;Dresden or Har…</td><td>&quot;Germany&quot;</td><td>&quot;2024-02-15 00:…</td><td>&quot;2024-04-01 09:…</td></tr><tr><td>&quot;Embedded Softw…</td><td>&quot;Brisbane, CA&quot;</td><td>&quot;Full-Time&quot;</td><td>null</td><td>&quot;Avive&quot;</td><td>null</td><td>&quot;[Linux, C++]&quot;</td><td>&quot;[OS, Programmi…</td><td>&quot;[Software]&quot;</td><td>null</td><td>&quot;150000.00&quot;</td><td>&quot;en&quot;</td><td>&quot;Brisbane&quot;</td><td>&quot;Australia&quot;</td><td>&quot;2023-10-23 00:…</td><td>&quot;2024-04-01 15:…</td></tr><tr><td>&quot;Manufacturing …</td><td>&quot;Monroe, WI&quot;</td><td>&quot;Full-Time&quot;</td><td>null</td><td>&quot;United Future&quot;</td><td>null</td><td>&quot;[]&quot;</td><td>&quot;[]&quot;</td><td>&quot;[Manufacturing…</td><td>&quot;Manager&quot;</td><td>&quot;1.00&quot;</td><td>&quot;en&quot;</td><td>&quot;Monroe&quot;</td><td>&quot;United States&quot;</td><td>&quot;2024-03-27 20:…</td><td>&quot;2024-03-28 20:…</td></tr><tr><td>&quot;Vom Lager zum …</td><td>&quot;Ennepetal, Nor…</td><td>&quot;Full-Time&quot;</td><td>null</td><td>&quot;RUHR VERMITTLU…</td><td>null</td><td>&quot;[WhatsApp, Ver…</td><td>&quot;[Communication…</td><td>&quot;[Security]&quot;</td><td>null</td><td>null</td><td>&quot;de&quot;</td><td>&quot;Dortmund&quot;</td><td>&quot;Germany&quot;</td><td>&quot;2024-03-27 12:…</td><td>&quot;2024-03-31 11:…</td></tr></tbody></table></div>"
      ],
      "text/plain": [
       "shape: (5, 16)\n",
       "┌────────────┬────────────┬───────────┬────────┬───┬───────────┬───────────┬───────────┬───────────┐\n",
       "│ job_name   ┆ job_locati ┆ hours     ┆ remote ┆ … ┆ city      ┆ country   ┆ job_publi ┆ last_inde │\n",
       "│ ---        ┆ on         ┆ ---       ┆ ---    ┆   ┆ ---       ┆ ---       ┆ shed_at   ┆ xed       │\n",
       "│ str        ┆ ---        ┆ str       ┆ bool   ┆   ┆ str       ┆ str       ┆ ---       ┆ ---       │\n",
       "│            ┆ str        ┆           ┆        ┆   ┆           ┆           ┆ str       ┆ str       │\n",
       "╞════════════╪════════════╪═══════════╪════════╪═══╪═══════════╪═══════════╪═══════════╪═══════════╡\n",
       "│ Dir, Engin ┆ Dominican  ┆ Full-Time ┆ null   ┆ … ┆ null      ┆ Dominican ┆ 2024-03-0 ┆ 2024-03-2 │\n",
       "│ eering     ┆ Republic-N ┆           ┆        ┆   ┆           ┆ Republic  ┆ 4         ┆ 6         │\n",
       "│ NPD,       ┆ ave        ┆           ┆        ┆   ┆           ┆           ┆ 00:00:00  ┆ 08:03:11  │\n",
       "│ Critical   ┆ 25-Meren…  ┆           ┆        ┆   ┆           ┆           ┆           ┆           │\n",
       "│ C…         ┆            ┆           ┆        ┆   ┆           ┆           ┆           ┆           │\n",
       "│ Software   ┆ Dresden or ┆ Full-Time ┆ null   ┆ … ┆ Dresden   ┆ Germany   ┆ 2024-02-1 ┆ 2024-04-0 │\n",
       "│ Engineer - ┆ Hartmannsd ┆           ┆        ┆   ┆ or Hartma ┆           ┆ 5         ┆ 1         │\n",
       "│ Embedded   ┆ orf,       ┆           ┆        ┆   ┆ nnsdorf   ┆           ┆ 00:00:00  ┆ 09:40:27  │\n",
       "│            ┆ Sachse…    ┆           ┆        ┆   ┆           ┆           ┆           ┆           │\n",
       "│ Embedded   ┆ Brisbane,  ┆ Full-Time ┆ null   ┆ … ┆ Brisbane  ┆ Australia ┆ 2023-10-2 ┆ 2024-04-0 │\n",
       "│ Software   ┆ CA         ┆           ┆        ┆   ┆           ┆           ┆ 3         ┆ 1         │\n",
       "│ Test       ┆            ┆           ┆        ┆   ┆           ┆           ┆ 00:00:00  ┆ 15:25:43  │\n",
       "│ Engineeri… ┆            ┆           ┆        ┆   ┆           ┆           ┆           ┆           │\n",
       "│ Manufactur ┆ Monroe, WI ┆ Full-Time ┆ null   ┆ … ┆ Monroe    ┆ United    ┆ 2024-03-2 ┆ 2024-03-2 │\n",
       "│ ing Engine ┆            ┆           ┆        ┆   ┆           ┆ States    ┆ 7         ┆ 8         │\n",
       "│ ering      ┆            ┆           ┆        ┆   ┆           ┆           ┆ 20:18:23  ┆ 20:24:27  │\n",
       "│ Manage…    ┆            ┆           ┆        ┆   ┆           ┆           ┆           ┆           │\n",
       "│ Vom Lager  ┆ Ennepetal, ┆ Full-Time ┆ null   ┆ … ┆ Dortmund  ┆ Germany   ┆ 2024-03-2 ┆ 2024-03-3 │\n",
       "│ zum        ┆ Nordrhein- ┆           ┆        ┆   ┆           ┆           ┆ 7         ┆ 1         │\n",
       "│ Wächter |  ┆ Westfalen, ┆           ┆        ┆   ┆           ┆           ┆ 12:31:19  ┆ 11:16:19  │\n",
       "│ Direktei…  ┆ …          ┆           ┆        ┆   ┆           ┆           ┆           ┆           │\n",
       "└────────────┴────────────┴───────────┴────────┴───┴───────────┴───────────┴───────────┴───────────┘"
      ]
     },
     "execution_count": 7,
     "metadata": {},
     "output_type": "execute_result"
    }
   ],
   "source": [
    "new_df.head()"
   ]
  },
  {
   "cell_type": "code",
   "execution_count": 8,
   "id": "3d800df2-add3-4828-8e68-f3973595d5f6",
   "metadata": {},
   "outputs": [
    {
     "data": {
      "text/plain": [
       "polars.config.Config"
      ]
     },
     "execution_count": 8,
     "metadata": {},
     "output_type": "execute_result"
    }
   ],
   "source": [
    "pl.Config.set_tbl_width_chars(200) #setting wide format but it doesn't work that well for jupyter notebook"
   ]
  },
  {
   "cell_type": "code",
   "execution_count": 9,
   "id": "c738649d-c385-4beb-9a94-96d03d63e0a0",
   "metadata": {},
   "outputs": [
    {
     "data": {
      "text/html": [
       "<div><style>\n",
       ".dataframe > thead > tr,\n",
       ".dataframe > tbody > tr {\n",
       "  text-align: right;\n",
       "  white-space: pre-wrap;\n",
       "}\n",
       "</style>\n",
       "<small>shape: (3, 16)</small><table border=\"1\" class=\"dataframe\"><thead><tr><th>job_name</th><th>job_location</th><th>hours</th><th>remote</th><th>company_name</th><th>education</th><th>tags_matched</th><th>tag_categories</th><th>categories</th><th>seniority</th><th>comp_est</th><th>language</th><th>city</th><th>country</th><th>job_published_at</th><th>last_indexed</th></tr><tr><td>str</td><td>str</td><td>str</td><td>bool</td><td>str</td><td>str</td><td>str</td><td>str</td><td>str</td><td>str</td><td>str</td><td>str</td><td>str</td><td>str</td><td>str</td><td>str</td></tr></thead><tbody><tr><td>&quot;Security Advis…</td><td>&quot;Denmark&quot;</td><td>&quot;Advisor&quot;</td><td>null</td><td>&quot;TDC&quot;</td><td>null</td><td>&quot;[GDPR]&quot;</td><td>&quot;[GDPR, Complia…</td><td>&quot;[Security]&quot;</td><td>&quot;Unclear Senior…</td><td>&quot;&quot;</td><td>&quot;en&quot;</td><td>null</td><td>&quot;Denmark&quot;</td><td>&quot;2023-05-17 00:…</td><td>&quot;2023-05-19 20:…</td></tr><tr><td>&quot;ITPM and MES s…</td><td>&quot;Erie, PA&quot;</td><td>&quot;Full-Time&quot;</td><td>false</td><td>&quot;Ventures Unlim…</td><td>&quot;Bachelors&quot;</td><td>&quot;[C#, XML, Java…</td><td>&quot;[Big Data Tool…</td><td>&quot;[Consulting]&quot;</td><td>null</td><td>&quot;&quot;</td><td>&quot;en&quot;</td><td>&quot;Erie&quot;</td><td>&quot;United States&quot;</td><td>&quot;2016-02-29 22:…</td><td>&quot;2023-05-28 11:…</td></tr><tr><td>&quot;Software Devel…</td><td>&quot;Baytown - Bayt…</td><td>null</td><td>null</td><td>&quot;igniterec&quot;</td><td>&quot;Bachelors&quot;</td><td>&quot;[Microsoft, SQ…</td><td>&quot;[Data Science …</td><td>&quot;[Software]&quot;</td><td>null</td><td>&quot;&quot;</td><td>&quot;en&quot;</td><td>&quot;Baytown&quot;</td><td>&quot;United States&quot;</td><td>&quot;2023-06-07 00:…</td><td>&quot;2023-06-07 11:…</td></tr></tbody></table></div>"
      ],
      "text/plain": [
       "shape: (3, 16)\n",
       "┌───────────────────────────────────┬───────────────────┬───────────┬────────┬───┬─────────┬───────────────┬─────────────────────┬─────────────────────┐\n",
       "│ job_name                          ┆ job_location      ┆ hours     ┆ remote ┆ … ┆ city    ┆ country       ┆ job_published_at    ┆ last_indexed        │\n",
       "│ ---                               ┆ ---               ┆ ---       ┆ ---    ┆   ┆ ---     ┆ ---           ┆ ---                 ┆ ---                 │\n",
       "│ str                               ┆ str               ┆ str       ┆ bool   ┆   ┆ str     ┆ str           ┆ str                 ┆ str                 │\n",
       "╞═══════════════════════════════════╪═══════════════════╪═══════════╪════════╪═══╪═════════╪═══════════════╪═════════════════════╪═════════════════════╡\n",
       "│ Security Advisor – help strength… ┆ Denmark           ┆ Advisor   ┆ null   ┆ … ┆ null    ┆ Denmark       ┆ 2023-05-17 00:00:00 ┆ 2023-05-19 20:34:43 │\n",
       "│ ITPM and MES support              ┆ Erie, PA          ┆ Full-Time ┆ false  ┆ … ┆ Erie    ┆ United States ┆ 2016-02-29 22:20:14 ┆ 2023-05-28 11:46:29 │\n",
       "│ Software Developer                ┆ Baytown - Baytown ┆ null      ┆ null   ┆ … ┆ Baytown ┆ United States ┆ 2023-06-07 00:00:00 ┆ 2023-06-07 11:38:25 │\n",
       "└───────────────────────────────────┴───────────────────┴───────────┴────────┴───┴─────────┴───────────────┴─────────────────────┴─────────────────────┘"
      ]
     },
     "execution_count": 9,
     "metadata": {},
     "output_type": "execute_result"
    }
   ],
   "source": [
    "old_df1.sample(3)"
   ]
  },
  {
   "cell_type": "code",
   "execution_count": 10,
   "id": "1969b77e-fa6f-498d-b8b8-1b37abb74ad4",
   "metadata": {},
   "outputs": [
    {
     "data": {
      "text/html": [
       "<div><style>\n",
       ".dataframe > thead > tr,\n",
       ".dataframe > tbody > tr {\n",
       "  text-align: right;\n",
       "  white-space: pre-wrap;\n",
       "}\n",
       "</style>\n",
       "<small>shape: (3, 16)</small><table border=\"1\" class=\"dataframe\"><thead><tr><th>job_name</th><th>job_location</th><th>hours</th><th>remote</th><th>company_name</th><th>education</th><th>tags_matched</th><th>tag_categories</th><th>categories</th><th>seniority</th><th>comp_est</th><th>language</th><th>city</th><th>country</th><th>job_published_at</th><th>last_indexed</th></tr><tr><td>str</td><td>str</td><td>str</td><td>bool</td><td>str</td><td>str</td><td>str</td><td>str</td><td>str</td><td>str</td><td>str</td><td>str</td><td>str</td><td>str</td><td>str</td><td>str</td></tr></thead><tbody><tr><td>&quot;Package Specia…</td><td>&quot;Bangalore, Ind…</td><td>&quot;Full-Time&quot;</td><td>null</td><td>&quot;IBM&quot;</td><td>null</td><td>&quot;[SAP, IBM, IBM…</td><td>&quot;[OSS, Accounti…</td><td>&quot;[Security]&quot;</td><td>&quot;Unclear Senior…</td><td>null</td><td>&quot;nl&quot;</td><td>&quot;Bangalore&quot;</td><td>&quot;India&quot;</td><td>&quot;2024-03-13 11:…</td><td>&quot;2024-03-17 00:…</td></tr><tr><td>&quot;Principal Engi…</td><td>&quot;Phoenix, AZ&quot;</td><td>&quot;Full-Time&quot;</td><td>null</td><td>&quot;Western Allian…</td><td>&quot;Bachelors&quot;</td><td>&quot;[OpenAI, Azure…</td><td>&quot;[Compute, Auto…</td><td>&quot;[]&quot;</td><td>&quot;Staff IC&quot;</td><td>null</td><td>&quot;en&quot;</td><td>&quot;Phoenix&quot;</td><td>&quot;United States&quot;</td><td>&quot;2024-02-05 00:…</td><td>&quot;2024-03-29 09:…</td></tr><tr><td>&quot;Product Manage…</td><td>&quot;Seoul, South K…</td><td>&quot;Full-Time&quot;</td><td>null</td><td>&quot;Match Group&quot;</td><td>&quot;Bachelors&quot;</td><td>&quot;[SQL]&quot;</td><td>&quot;[Data Science …</td><td>&quot;[]&quot;</td><td>&quot;IC&quot;</td><td>null</td><td>&quot;en&quot;</td><td>&quot;Seoul&quot;</td><td>&quot;South Korea&quot;</td><td>&quot;2023-12-21 00:…</td><td>&quot;2024-03-26 17:…</td></tr></tbody></table></div>"
      ],
      "text/plain": [
       "shape: (3, 16)\n",
       "┌───────────────────────────────────┬────────────────────┬───────────┬────────┬───┬───────────┬───────────────┬─────────────────────┬─────────────────────┐\n",
       "│ job_name                          ┆ job_location       ┆ hours     ┆ remote ┆ … ┆ city      ┆ country       ┆ job_published_at    ┆ last_indexed        │\n",
       "│ ---                               ┆ ---                ┆ ---       ┆ ---    ┆   ┆ ---       ┆ ---           ┆ ---                 ┆ ---                 │\n",
       "│ str                               ┆ str                ┆ str       ┆ bool   ┆   ┆ str       ┆ str           ┆ str                 ┆ str                 │\n",
       "╞═══════════════════════════════════╪════════════════════╪═══════════╪════════╪═══╪═══════════╪═══════════════╪═════════════════════╪═════════════════════╡\n",
       "│ Package Specialist: SAP HANA Sec… ┆ Bangalore, India   ┆ Full-Time ┆ null   ┆ … ┆ Bangalore ┆ India         ┆ 2024-03-13 11:02:43 ┆ 2024-03-17 00:47:20 │\n",
       "│ Principal Engineer – Innovations… ┆ Phoenix, AZ        ┆ Full-Time ┆ null   ┆ … ┆ Phoenix   ┆ United States ┆ 2024-02-05 00:00:00 ┆ 2024-03-29 09:23:02 │\n",
       "│ Product Manager (AI Platform)     ┆ Seoul, South Korea ┆ Full-Time ┆ null   ┆ … ┆ Seoul     ┆ South Korea   ┆ 2023-12-21 00:00:00 ┆ 2024-03-26 17:24:27 │\n",
       "└───────────────────────────────────┴────────────────────┴───────────┴────────┴───┴───────────┴───────────────┴─────────────────────┴─────────────────────┘"
      ]
     },
     "execution_count": 10,
     "metadata": {},
     "output_type": "execute_result"
    }
   ],
   "source": [
    "new_df.sample(3)"
   ]
  },
  {
   "cell_type": "code",
   "execution_count": 11,
   "id": "278bea90-6b7a-453f-a174-04c59d30cafa",
   "metadata": {},
   "outputs": [],
   "source": [
    "oldss_df = old_df1.with_columns(pl.col('job_published_at', 'last_indexed').str.to_datetime().cast(pl.Date))"
   ]
  },
  {
   "cell_type": "code",
   "execution_count": 13,
   "id": "0c8e5eed-85d9-40b1-b582-4895379557f7",
   "metadata": {},
   "outputs": [
    {
     "data": {
      "text/html": [
       "<div><style>\n",
       ".dataframe > thead > tr,\n",
       ".dataframe > tbody > tr {\n",
       "  text-align: right;\n",
       "  white-space: pre-wrap;\n",
       "}\n",
       "</style>\n",
       "<small>shape: (5, 16)</small><table border=\"1\" class=\"dataframe\"><thead><tr><th>job_name</th><th>job_location</th><th>hours</th><th>remote</th><th>company_name</th><th>education</th><th>tags_matched</th><th>tag_categories</th><th>categories</th><th>seniority</th><th>comp_est</th><th>language</th><th>city</th><th>country</th><th>job_published_at</th><th>last_indexed</th></tr><tr><td>str</td><td>str</td><td>str</td><td>bool</td><td>str</td><td>str</td><td>str</td><td>str</td><td>str</td><td>str</td><td>str</td><td>str</td><td>str</td><td>str</td><td>date</td><td>date</td></tr></thead><tbody><tr><td>&quot;Backend Develo…</td><td>&quot;Praha, Czech R…</td><td>null</td><td>null</td><td>&quot;IBM&quot;</td><td>null</td><td>&quot;[Docker, Graph…</td><td>&quot;[Container Orc…</td><td>&quot;[Software]&quot;</td><td>null</td><td>&quot;&quot;</td><td>&quot;pl&quot;</td><td>&quot;Praha&quot;</td><td>&quot;Czech Republic…</td><td>2023-03-13</td><td>2023-06-05</td></tr><tr><td>&quot;Manufacturing …</td><td>null</td><td>&quot;Full-Time&quot;</td><td>false</td><td>null</td><td>null</td><td>&quot;[Sigma]&quot;</td><td>&quot;[Tools, Server…</td><td>&quot;[Manufacturing…</td><td>null</td><td>&quot;&quot;</td><td>&quot;en&quot;</td><td>&quot;Sterling Heigh…</td><td>&quot;United States&quot;</td><td>2021-10-09</td><td>2023-05-24</td></tr><tr><td>&quot;Design Enginee…</td><td>&quot;520 S Byrkit S…</td><td>&quot;Full-Time&quot;</td><td>null</td><td>&quot;ABI Attachment…</td><td>&quot;Bachelors&quot;</td><td>&quot;[]&quot;</td><td>&quot;[]&quot;</td><td>&quot;[Design]&quot;</td><td>&quot;Senior IC&quot;</td><td>&quot;&quot;</td><td>&quot;en&quot;</td><td>&quot;Mishawaka&quot;</td><td>&quot;United States&quot;</td><td>2023-04-28</td><td>2023-05-19</td></tr><tr><td>&quot;Cybersecurity …</td><td>null</td><td>&quot;Full-Time&quot;</td><td>false</td><td>null</td><td>&quot;Bachelors&quot;</td><td>&quot;[AWS, Qualys, …</td><td>&quot;[Compute, Logg…</td><td>&quot;[Cybersecurity…</td><td>null</td><td>&quot;&quot;</td><td>&quot;en&quot;</td><td>&quot;Herndon&quot;</td><td>&quot;United States&quot;</td><td>2023-04-03</td><td>2023-05-28</td></tr><tr><td>&quot;Your Career so…</td><td>&quot;Kolkata, India…</td><td>&quot;Full-Time&quot;</td><td>false</td><td>&quot;Adeeba e Servi…</td><td>null</td><td>&quot;[Objective-C, …</td><td>&quot;[Cloud Native …</td><td>&quot;[Software]&quot;</td><td>null</td><td>&quot;&quot;</td><td>&quot;en&quot;</td><td>&quot;Kolkata&quot;</td><td>&quot;India&quot;</td><td>2017-01-17</td><td>2023-05-30</td></tr></tbody></table></div>"
      ],
      "text/plain": [
       "shape: (5, 16)\n",
       "┌───────────────────────────────────┬───────────────────────────────────┬───────────┬────────┬───┬──────────────────┬────────────────┬──────────────────┬──────────────┐\n",
       "│ job_name                          ┆ job_location                      ┆ hours     ┆ remote ┆ … ┆ city             ┆ country        ┆ job_published_at ┆ last_indexed │\n",
       "│ ---                               ┆ ---                               ┆ ---       ┆ ---    ┆   ┆ ---              ┆ ---            ┆ ---              ┆ ---          │\n",
       "│ str                               ┆ str                               ┆ str       ┆ bool   ┆   ┆ str              ┆ str            ┆ date             ┆ date         │\n",
       "╞═══════════════════════════════════╪═══════════════════════════════════╪═══════════╪════════╪═══╪══════════════════╪════════════════╪══════════════════╪══════════════╡\n",
       "│ Backend Developer                 ┆ Praha, Czech Republic             ┆ null      ┆ null   ┆ … ┆ Praha            ┆ Czech Republic ┆ 2023-03-13       ┆ 2023-06-05   │\n",
       "│ Manufacturing Engineer            ┆ null                              ┆ Full-Time ┆ false  ┆ … ┆ Sterling Heights ┆ United States  ┆ 2021-10-09       ┆ 2023-05-24   │\n",
       "│ Design Engineer, Motorized Produ… ┆ 520 S Byrkit St Mishawaka, India… ┆ Full-Time ┆ null   ┆ … ┆ Mishawaka        ┆ United States  ┆ 2023-04-28       ┆ 2023-05-19   │\n",
       "│ Cybersecurity Engineer            ┆ null                              ┆ Full-Time ┆ false  ┆ … ┆ Herndon          ┆ United States  ┆ 2023-04-03       ┆ 2023-05-28   │\n",
       "│ Your Career so choose wisely wit… ┆ Kolkata, India                    ┆ Full-Time ┆ false  ┆ … ┆ Kolkata          ┆ India          ┆ 2017-01-17       ┆ 2023-05-30   │\n",
       "└───────────────────────────────────┴───────────────────────────────────┴───────────┴────────┴───┴──────────────────┴────────────────┴──────────────────┴──────────────┘"
      ]
     },
     "execution_count": 13,
     "metadata": {},
     "output_type": "execute_result"
    }
   ],
   "source": [
    "oldss_df.head()"
   ]
  },
  {
   "cell_type": "code",
   "execution_count": 14,
   "id": "a16c571e-f850-46aa-bb33-3cc08749569c",
   "metadata": {},
   "outputs": [],
   "source": [
    "newss_df = new_df.with_columns(pl.col('job_published_at', 'last_indexed').str.to_datetime().cast(pl.Date))"
   ]
  },
  {
   "cell_type": "code",
   "execution_count": 15,
   "id": "7f332efb-730b-44a1-9f18-02e01800c990",
   "metadata": {},
   "outputs": [
    {
     "data": {
      "text/html": [
       "<div><style>\n",
       ".dataframe > thead > tr,\n",
       ".dataframe > tbody > tr {\n",
       "  text-align: right;\n",
       "  white-space: pre-wrap;\n",
       "}\n",
       "</style>\n",
       "<small>shape: (5, 16)</small><table border=\"1\" class=\"dataframe\"><thead><tr><th>job_name</th><th>job_location</th><th>hours</th><th>remote</th><th>company_name</th><th>education</th><th>tags_matched</th><th>tag_categories</th><th>categories</th><th>seniority</th><th>comp_est</th><th>language</th><th>city</th><th>country</th><th>job_published_at</th><th>last_indexed</th></tr><tr><td>str</td><td>str</td><td>str</td><td>bool</td><td>str</td><td>str</td><td>str</td><td>str</td><td>str</td><td>str</td><td>str</td><td>str</td><td>str</td><td>str</td><td>date</td><td>date</td></tr></thead><tbody><tr><td>&quot;Dir, Engineeri…</td><td>&quot;Dominican Repu…</td><td>&quot;Full-Time&quot;</td><td>null</td><td>&quot;DR&quot;</td><td>&quot;Bachelors&quot;</td><td>&quot;[Microsoft]&quot;</td><td>&quot;[]&quot;</td><td>&quot;[]&quot;</td><td>null</td><td>null</td><td>&quot;en&quot;</td><td>null</td><td>&quot;Dominican Repu…</td><td>2024-03-04</td><td>2024-03-26</td></tr><tr><td>&quot;Software Engin…</td><td>&quot;Dresden or Har…</td><td>&quot;Full-Time&quot;</td><td>null</td><td>&quot;Manning Global…</td><td>null</td><td>&quot;[Linux]&quot;</td><td>&quot;[OS]&quot;</td><td>&quot;[Software, IT]…</td><td>null</td><td>null</td><td>&quot;en&quot;</td><td>&quot;Dresden or Har…</td><td>&quot;Germany&quot;</td><td>2024-02-15</td><td>2024-04-01</td></tr><tr><td>&quot;Embedded Softw…</td><td>&quot;Brisbane, CA&quot;</td><td>&quot;Full-Time&quot;</td><td>null</td><td>&quot;Avive&quot;</td><td>null</td><td>&quot;[Linux, C++]&quot;</td><td>&quot;[OS, Programmi…</td><td>&quot;[Software]&quot;</td><td>null</td><td>&quot;150000.00&quot;</td><td>&quot;en&quot;</td><td>&quot;Brisbane&quot;</td><td>&quot;Australia&quot;</td><td>2023-10-23</td><td>2024-04-01</td></tr><tr><td>&quot;Manufacturing …</td><td>&quot;Monroe, WI&quot;</td><td>&quot;Full-Time&quot;</td><td>null</td><td>&quot;United Future&quot;</td><td>null</td><td>&quot;[]&quot;</td><td>&quot;[]&quot;</td><td>&quot;[Manufacturing…</td><td>&quot;Manager&quot;</td><td>&quot;1.00&quot;</td><td>&quot;en&quot;</td><td>&quot;Monroe&quot;</td><td>&quot;United States&quot;</td><td>2024-03-27</td><td>2024-03-28</td></tr><tr><td>&quot;Vom Lager zum …</td><td>&quot;Ennepetal, Nor…</td><td>&quot;Full-Time&quot;</td><td>null</td><td>&quot;RUHR VERMITTLU…</td><td>null</td><td>&quot;[WhatsApp, Ver…</td><td>&quot;[Communication…</td><td>&quot;[Security]&quot;</td><td>null</td><td>null</td><td>&quot;de&quot;</td><td>&quot;Dortmund&quot;</td><td>&quot;Germany&quot;</td><td>2024-03-27</td><td>2024-03-31</td></tr></tbody></table></div>"
      ],
      "text/plain": [
       "shape: (5, 16)\n",
       "┌───────────────────────────────────┬───────────────────────────────────┬───────────┬────────┬───┬──────────────────────────┬────────────────────┬──────────────────┬──────────────┐\n",
       "│ job_name                          ┆ job_location                      ┆ hours     ┆ remote ┆ … ┆ city                     ┆ country            ┆ job_published_at ┆ last_indexed │\n",
       "│ ---                               ┆ ---                               ┆ ---       ┆ ---    ┆   ┆ ---                      ┆ ---                ┆ ---              ┆ ---          │\n",
       "│ str                               ┆ str                               ┆ str       ┆ bool   ┆   ┆ str                      ┆ str                ┆ date             ┆ date         │\n",
       "╞═══════════════════════════════════╪═══════════════════════════════════╪═══════════╪════════╪═══╪══════════════════════════╪════════════════════╪══════════════════╪══════════════╡\n",
       "│ Dir, Engineering NPD, Critical C… ┆ Dominican Republic-Nave 25-Meren… ┆ Full-Time ┆ null   ┆ … ┆ null                     ┆ Dominican Republic ┆ 2024-03-04       ┆ 2024-03-26   │\n",
       "│ Software Engineer - Embedded      ┆ Dresden or Hartmannsdorf, Sachse… ┆ Full-Time ┆ null   ┆ … ┆ Dresden or Hartmannsdorf ┆ Germany            ┆ 2024-02-15       ┆ 2024-04-01   │\n",
       "│ Embedded Software Test Engineeri… ┆ Brisbane, CA                      ┆ Full-Time ┆ null   ┆ … ┆ Brisbane                 ┆ Australia          ┆ 2023-10-23       ┆ 2024-04-01   │\n",
       "│ Manufacturing Engineering Manage… ┆ Monroe, WI                        ┆ Full-Time ┆ null   ┆ … ┆ Monroe                   ┆ United States      ┆ 2024-03-27       ┆ 2024-03-28   │\n",
       "│ Vom Lager zum Wächter | Direktei… ┆ Ennepetal, Nordrhein-Westfalen, … ┆ Full-Time ┆ null   ┆ … ┆ Dortmund                 ┆ Germany            ┆ 2024-03-27       ┆ 2024-03-31   │\n",
       "└───────────────────────────────────┴───────────────────────────────────┴───────────┴────────┴───┴──────────────────────────┴────────────────────┴──────────────────┴──────────────┘"
      ]
     },
     "execution_count": 15,
     "metadata": {},
     "output_type": "execute_result"
    }
   ],
   "source": [
    "newss_df.head()"
   ]
  },
  {
   "cell_type": "code",
   "execution_count": 16,
   "id": "f4a6480b-f765-4983-afe5-f7413defb1c6",
   "metadata": {},
   "outputs": [],
   "source": [
    "import polars.selectors as cs"
   ]
  },
  {
   "cell_type": "code",
   "execution_count": 17,
   "id": "05913036-a2f4-4032-84e7-353b61a4b132",
   "metadata": {},
   "outputs": [],
   "source": [
    "date_data_new = newss_df.select(cs.date())\n",
    "bool_data_new = newss_df.select(cs.by_dtype(pl.Boolean))\n",
    "string_data_new = newss_df.select(cs.string(include_categorical=True))"
   ]
  },
  {
   "cell_type": "code",
   "execution_count": 18,
   "id": "4f804a0e-9341-4cb4-b22c-ba2f2e8c2bfb",
   "metadata": {},
   "outputs": [
    {
     "name": "stdout",
     "output_type": "stream",
     "text": [
      "date type columns:['job_published_at', 'last_indexed']\n",
      "bool type columns:['remote']\n",
      "string type columns:['job_name', 'job_location', 'hours', 'company_name', 'education', 'tags_matched', 'tag_categories', 'categories', 'seniority', 'comp_est', 'language', 'city', 'country']\n"
     ]
    }
   ],
   "source": [
    "print(f'date type columns:{date_data_new.columns}')\n",
    "print(f'bool type columns:{bool_data_new.columns}')\n",
    "print(f'string type columns:{string_data_new.columns}')"
   ]
  },
  {
   "cell_type": "code",
   "execution_count": 19,
   "id": "b5800eeb-37f7-44d9-91e0-4ac63c5af15c",
   "metadata": {},
   "outputs": [],
   "source": [
    "date_data_old = oldss_df.select(cs.date())\n",
    "bool_data_old = oldss_df.select(cs.by_dtype(pl.Boolean))\n",
    "string_data_old = oldss_df.select(cs.string(include_categorical=True))"
   ]
  },
  {
   "cell_type": "code",
   "execution_count": 20,
   "id": "3c7b2ac8-4f45-476d-8a1f-bc747e0fa18c",
   "metadata": {},
   "outputs": [
    {
     "name": "stdout",
     "output_type": "stream",
     "text": [
      "date type columns:['job_published_at', 'last_indexed']\n",
      "bool type columns:['remote']\n",
      "string type columns:['job_name', 'job_location', 'hours', 'company_name', 'education', 'tags_matched', 'tag_categories', 'categories', 'seniority', 'comp_est', 'language', 'city', 'country']\n"
     ]
    }
   ],
   "source": [
    "print(f'date type columns:{date_data_old.columns}')\n",
    "print(f'bool type columns:{bool_data_old.columns}')\n",
    "print(f'string type columns:{string_data_old.columns}')"
   ]
  },
  {
   "cell_type": "code",
   "execution_count": 24,
   "id": "ed1c729c-7f8c-4ae6-9d68-4b3e44694a4d",
   "metadata": {},
   "outputs": [],
   "source": [
    "missing_old = (\n",
    "    oldss_df.select(pl.all().is_null().sum())\n",
    "    .melt(value_name=\"missing\")\n",
    "    .filter(pl.col(\"missing\") > 0)\n",
    ")"
   ]
  },
  {
   "cell_type": "code",
   "execution_count": 25,
   "id": "2030a26c-8085-4fda-9a97-007047266106",
   "metadata": {},
   "outputs": [],
   "source": [
    "missing_new = (\n",
    "    newss_df.select(pl.all().is_null().sum())\n",
    "    .melt(value_name=\"missing\")\n",
    "    .filter(pl.col(\"missing\") > 0)\n",
    ")"
   ]
  },
  {
   "cell_type": "code",
   "execution_count": 28,
   "id": "7d4cd179-0d2a-47cf-89c2-4f3deec20c65",
   "metadata": {},
   "outputs": [
    {
     "data": {
      "text/html": [
       "<div><style>\n",
       ".dataframe > thead > tr,\n",
       ".dataframe > tbody > tr {\n",
       "  text-align: right;\n",
       "  white-space: pre-wrap;\n",
       "}\n",
       "</style>\n",
       "<small>shape: (2, 13)</small><table border=\"1\" class=\"dataframe\"><thead><tr><th>column_0</th><th>column_1</th><th>column_2</th><th>column_3</th><th>column_4</th><th>column_5</th><th>column_6</th><th>column_7</th><th>column_8</th><th>column_9</th><th>column_10</th><th>column_11</th><th>column_12</th></tr><tr><td>str</td><td>str</td><td>str</td><td>str</td><td>str</td><td>str</td><td>str</td><td>str</td><td>str</td><td>str</td><td>str</td><td>str</td><td>str</td></tr></thead><tbody><tr><td>&quot;job_location&quot;</td><td>&quot;hours&quot;</td><td>&quot;remote&quot;</td><td>&quot;company_name&quot;</td><td>&quot;education&quot;</td><td>&quot;tags_matched&quot;</td><td>&quot;tag_categories…</td><td>&quot;seniority&quot;</td><td>&quot;comp_est&quot;</td><td>&quot;language&quot;</td><td>&quot;city&quot;</td><td>&quot;country&quot;</td><td>&quot;job_published_…</td></tr><tr><td>&quot;8378&quot;</td><td>&quot;15505&quot;</td><td>&quot;36564&quot;</td><td>&quot;2726&quot;</td><td>&quot;31037&quot;</td><td>&quot;256&quot;</td><td>&quot;256&quot;</td><td>&quot;26781&quot;</td><td>&quot;6631&quot;</td><td>&quot;27&quot;</td><td>&quot;11199&quot;</td><td>&quot;5462&quot;</td><td>&quot;5994&quot;</td></tr></tbody></table></div>"
      ],
      "text/plain": [
       "shape: (2, 13)\n",
       "┌──────────────┬──────────┬──────────┬──────────────┬───┬──────────┬───────────┬───────────┬──────────────────┐\n",
       "│ column_0     ┆ column_1 ┆ column_2 ┆ column_3     ┆ … ┆ column_9 ┆ column_10 ┆ column_11 ┆ column_12        │\n",
       "│ ---          ┆ ---      ┆ ---      ┆ ---          ┆   ┆ ---      ┆ ---       ┆ ---       ┆ ---              │\n",
       "│ str          ┆ str      ┆ str      ┆ str          ┆   ┆ str      ┆ str       ┆ str       ┆ str              │\n",
       "╞══════════════╪══════════╪══════════╪══════════════╪═══╪══════════╪═══════════╪═══════════╪══════════════════╡\n",
       "│ job_location ┆ hours    ┆ remote   ┆ company_name ┆ … ┆ language ┆ city      ┆ country   ┆ job_published_at │\n",
       "│ 8378         ┆ 15505    ┆ 36564    ┆ 2726         ┆ … ┆ 27       ┆ 11199     ┆ 5462      ┆ 5994             │\n",
       "└──────────────┴──────────┴──────────┴──────────────┴───┴──────────┴───────────┴───────────┴──────────────────┘"
      ]
     },
     "execution_count": 28,
     "metadata": {},
     "output_type": "execute_result"
    }
   ],
   "source": [
    "missing_old.transpose()"
   ]
  },
  {
   "cell_type": "code",
   "execution_count": 29,
   "id": "3cd1f611-b007-4fea-b5b5-51ccb12c75cf",
   "metadata": {},
   "outputs": [
    {
     "data": {
      "text/html": [
       "<div><style>\n",
       ".dataframe > thead > tr,\n",
       ".dataframe > tbody > tr {\n",
       "  text-align: right;\n",
       "  white-space: pre-wrap;\n",
       "}\n",
       "</style>\n",
       "<small>shape: (2, 13)</small><table border=\"1\" class=\"dataframe\"><thead><tr><th>column_0</th><th>column_1</th><th>column_2</th><th>column_3</th><th>column_4</th><th>column_5</th><th>column_6</th><th>column_7</th><th>column_8</th><th>column_9</th><th>column_10</th><th>column_11</th><th>column_12</th></tr><tr><td>str</td><td>str</td><td>str</td><td>str</td><td>str</td><td>str</td><td>str</td><td>str</td><td>str</td><td>str</td><td>str</td><td>str</td><td>str</td></tr></thead><tbody><tr><td>&quot;job_location&quot;</td><td>&quot;hours&quot;</td><td>&quot;remote&quot;</td><td>&quot;company_name&quot;</td><td>&quot;education&quot;</td><td>&quot;tags_matched&quot;</td><td>&quot;tag_categories…</td><td>&quot;seniority&quot;</td><td>&quot;comp_est&quot;</td><td>&quot;language&quot;</td><td>&quot;city&quot;</td><td>&quot;country&quot;</td><td>&quot;job_published_…</td></tr><tr><td>&quot;3074&quot;</td><td>&quot;12234&quot;</td><td>&quot;40054&quot;</td><td>&quot;3540&quot;</td><td>&quot;31061&quot;</td><td>&quot;1306&quot;</td><td>&quot;1306&quot;</td><td>&quot;26798&quot;</td><td>&quot;41106&quot;</td><td>&quot;557&quot;</td><td>&quot;12065&quot;</td><td>&quot;4246&quot;</td><td>&quot;4628&quot;</td></tr></tbody></table></div>"
      ],
      "text/plain": [
       "shape: (2, 13)\n",
       "┌──────────────┬──────────┬──────────┬──────────────┬───┬──────────┬───────────┬───────────┬──────────────────┐\n",
       "│ column_0     ┆ column_1 ┆ column_2 ┆ column_3     ┆ … ┆ column_9 ┆ column_10 ┆ column_11 ┆ column_12        │\n",
       "│ ---          ┆ ---      ┆ ---      ┆ ---          ┆   ┆ ---      ┆ ---       ┆ ---       ┆ ---              │\n",
       "│ str          ┆ str      ┆ str      ┆ str          ┆   ┆ str      ┆ str       ┆ str       ┆ str              │\n",
       "╞══════════════╪══════════╪══════════╪══════════════╪═══╪══════════╪═══════════╪═══════════╪══════════════════╡\n",
       "│ job_location ┆ hours    ┆ remote   ┆ company_name ┆ … ┆ language ┆ city      ┆ country   ┆ job_published_at │\n",
       "│ 3074         ┆ 12234    ┆ 40054    ┆ 3540         ┆ … ┆ 557      ┆ 12065     ┆ 4246      ┆ 4628             │\n",
       "└──────────────┴──────────┴──────────┴──────────────┴───┴──────────┴───────────┴───────────┴──────────────────┘"
      ]
     },
     "execution_count": 29,
     "metadata": {},
     "output_type": "execute_result"
    }
   ],
   "source": [
    "missing_new.transpose()"
   ]
  },
  {
   "cell_type": "code",
   "execution_count": null,
   "id": "c21e69fc-8747-433d-bcbd-f0431d8743d8",
   "metadata": {},
   "outputs": [],
   "source": [
    "print(string_data_new)"
   ]
  },
  {
   "cell_type": "code",
   "execution_count": null,
   "id": "f0d6d91f-8813-4174-a7e7-3a512d6446a5",
   "metadata": {},
   "outputs": [],
   "source": [
    "oldss_df.select(pl.col(col).value_counts(sort=True))"
   ]
  },
  {
   "cell_type": "code",
   "execution_count": null,
   "id": "ad99eee0-6836-46cd-aa93-e08268389ba6",
   "metadata": {},
   "outputs": [],
   "source": []
  },
  {
   "cell_type": "code",
   "execution_count": 33,
   "id": "4b779476-f822-4118-ac1b-27472ca98311",
   "metadata": {},
   "outputs": [
    {
     "ename": "ModuleNotFoundError",
     "evalue": "No module named 'missingno'",
     "output_type": "error",
     "traceback": [
      "\u001b[0;31m---------------------------------------------------------------------------\u001b[0m",
      "\u001b[0;31mModuleNotFoundError\u001b[0m                       Traceback (most recent call last)",
      "Cell \u001b[0;32mIn[33], line 1\u001b[0m\n\u001b[0;32m----> 1\u001b[0m \u001b[38;5;28;01mimport\u001b[39;00m \u001b[38;5;21;01mmissingno\u001b[39;00m \u001b[38;5;28;01mas\u001b[39;00m \u001b[38;5;21;01mmsno\u001b[39;00m\n",
      "\u001b[0;31mModuleNotFoundError\u001b[0m: No module named 'missingno'"
     ]
    }
   ],
   "source": [
    "import missingno as msno"
   ]
  },
  {
   "cell_type": "code",
   "execution_count": null,
   "id": "a2f7ef3e-70ee-4869-a32f-fc8dfca04771",
   "metadata": {},
   "outputs": [],
   "source": []
  }
 ],
 "metadata": {
  "kernelspec": {
   "display_name": "venv",
   "language": "python",
   "name": "venv"
  },
  "language_info": {
   "codemirror_mode": {
    "name": "ipython",
    "version": 3
   },
   "file_extension": ".py",
   "mimetype": "text/x-python",
   "name": "python",
   "nbconvert_exporter": "python",
   "pygments_lexer": "ipython3",
   "version": "3.10.12"
  }
 },
 "nbformat": 4,
 "nbformat_minor": 5
}
